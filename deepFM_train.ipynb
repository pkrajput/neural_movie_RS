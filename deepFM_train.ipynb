{
 "cells": [
  {
   "cell_type": "code",
   "execution_count": 1,
   "id": "12c9e9b2",
   "metadata": {
    "ExecuteTime": {
     "end_time": "2022-12-26T15:37:43.373475Z",
     "start_time": "2022-12-26T15:37:39.134513Z"
    }
   },
   "outputs": [
    {
     "name": "stderr",
     "output_type": "stream",
     "text": [
      "2023-03-29 13:21:51.966421: I tensorflow/core/platform/cpu_feature_guard.cc:193] This TensorFlow binary is optimized with oneAPI Deep Neural Network Library (oneDNN) to use the following CPU instructions in performance-critical operations:  AVX2 FMA\n",
      "To enable them in other operations, rebuild TensorFlow with the appropriate compiler flags.\n",
      "2023-03-29 13:21:52.178982: E tensorflow/stream_executor/cuda/cuda_blas.cc:2981] Unable to register cuBLAS factory: Attempting to register factory for plugin cuBLAS when one has already been registered\n",
      "2023-03-29 13:21:52.848981: W tensorflow/stream_executor/platform/default/dso_loader.cc:64] Could not load dynamic library 'libnvinfer.so.7'; dlerror: libnvinfer.so.7: cannot open shared object file: No such file or directory; LD_LIBRARY_PATH: /usr/local/nvidia/lib:/usr/local/nvidia/lib64\n",
      "2023-03-29 13:21:52.849066: W tensorflow/stream_executor/platform/default/dso_loader.cc:64] Could not load dynamic library 'libnvinfer_plugin.so.7'; dlerror: libnvinfer_plugin.so.7: cannot open shared object file: No such file or directory; LD_LIBRARY_PATH: /usr/local/nvidia/lib:/usr/local/nvidia/lib64\n",
      "2023-03-29 13:21:52.849076: W tensorflow/compiler/tf2tensorrt/utils/py_utils.cc:38] TF-TRT Warning: Cannot dlopen some TensorRT libraries. If you would like to use Nvidia GPU with TensorRT, please make sure the missing libraries mentioned above are installed properly.\n"
     ]
    }
   ],
   "source": [
    "import pandas as pd\n",
    "import numpy as np\n",
    "import tensorflow as tf\n",
    "from tensorflow.keras import backend as K\n",
    "import matplotlib.pyplot as plt\n",
    "\n",
    "from dataprep import transform_indices\n",
    "from polara.preprocessing.dataframes import reindex, leave_one_out"
   ]
  },
  {
   "cell_type": "code",
   "execution_count": 2,
   "id": "7e2af0b2",
   "metadata": {},
   "outputs": [
    {
     "data": {
      "text/html": [
       "<div>\n",
       "<style scoped>\n",
       "    .dataframe tbody tr th:only-of-type {\n",
       "        vertical-align: middle;\n",
       "    }\n",
       "\n",
       "    .dataframe tbody tr th {\n",
       "        vertical-align: top;\n",
       "    }\n",
       "\n",
       "    .dataframe thead th {\n",
       "        text-align: right;\n",
       "    }\n",
       "</style>\n",
       "<table border=\"1\" class=\"dataframe\">\n",
       "  <thead>\n",
       "    <tr style=\"text-align: right;\">\n",
       "      <th></th>\n",
       "      <th>userid</th>\n",
       "      <th>movieid</th>\n",
       "      <th>rating</th>\n",
       "      <th>timestamp</th>\n",
       "    </tr>\n",
       "  </thead>\n",
       "  <tbody>\n",
       "    <tr>\n",
       "      <th>0</th>\n",
       "      <td>158862</td>\n",
       "      <td>1600.0</td>\n",
       "      <td>4.0</td>\n",
       "      <td>9.783073e+08</td>\n",
       "    </tr>\n",
       "    <tr>\n",
       "      <th>1</th>\n",
       "      <td>49693</td>\n",
       "      <td>9102.0</td>\n",
       "      <td>4.0</td>\n",
       "      <td>9.854663e+08</td>\n",
       "    </tr>\n",
       "    <tr>\n",
       "      <th>2</th>\n",
       "      <td>65237</td>\n",
       "      <td>2408.0</td>\n",
       "      <td>3.0</td>\n",
       "      <td>9.783080e+08</td>\n",
       "    </tr>\n",
       "    <tr>\n",
       "      <th>3</th>\n",
       "      <td>82765</td>\n",
       "      <td>2590.0</td>\n",
       "      <td>2.0</td>\n",
       "      <td>9.851394e+08</td>\n",
       "    </tr>\n",
       "    <tr>\n",
       "      <th>4</th>\n",
       "      <td>120946</td>\n",
       "      <td>285.0</td>\n",
       "      <td>2.0</td>\n",
       "      <td>9.783085e+08</td>\n",
       "    </tr>\n",
       "    <tr>\n",
       "      <th>...</th>\n",
       "      <td>...</td>\n",
       "      <td>...</td>\n",
       "      <td>...</td>\n",
       "      <td>...</td>\n",
       "    </tr>\n",
       "    <tr>\n",
       "      <th>6371801</th>\n",
       "      <td>153374</td>\n",
       "      <td>5422.0</td>\n",
       "      <td>4.0</td>\n",
       "      <td>1.078628e+09</td>\n",
       "    </tr>\n",
       "    <tr>\n",
       "      <th>6371802</th>\n",
       "      <td>153374</td>\n",
       "      <td>1958.0</td>\n",
       "      <td>2.5</td>\n",
       "      <td>1.075267e+09</td>\n",
       "    </tr>\n",
       "    <tr>\n",
       "      <th>6371803</th>\n",
       "      <td>153374</td>\n",
       "      <td>1959.0</td>\n",
       "      <td>2.5</td>\n",
       "      <td>1.075267e+09</td>\n",
       "    </tr>\n",
       "    <tr>\n",
       "      <th>6371804</th>\n",
       "      <td>153374</td>\n",
       "      <td>385.0</td>\n",
       "      <td>3.0</td>\n",
       "      <td>1.078625e+09</td>\n",
       "    </tr>\n",
       "    <tr>\n",
       "      <th>6371805</th>\n",
       "      <td>153374</td>\n",
       "      <td>387.0</td>\n",
       "      <td>3.5</td>\n",
       "      <td>1.140073e+09</td>\n",
       "    </tr>\n",
       "  </tbody>\n",
       "</table>\n",
       "<p>6371806 rows × 4 columns</p>\n",
       "</div>"
      ],
      "text/plain": [
       "         userid  movieid  rating     timestamp\n",
       "0        158862   1600.0     4.0  9.783073e+08\n",
       "1         49693   9102.0     4.0  9.854663e+08\n",
       "2         65237   2408.0     3.0  9.783080e+08\n",
       "3         82765   2590.0     2.0  9.851394e+08\n",
       "4        120946    285.0     2.0  9.783085e+08\n",
       "...         ...      ...     ...           ...\n",
       "6371801  153374   5422.0     4.0  1.078628e+09\n",
       "6371802  153374   1958.0     2.5  1.075267e+09\n",
       "6371803  153374   1959.0     2.5  1.075267e+09\n",
       "6371804  153374    385.0     3.0  1.078625e+09\n",
       "6371805  153374    387.0     3.5  1.140073e+09\n",
       "\n",
       "[6371806 rows x 4 columns]"
      ]
     },
     "execution_count": 2,
     "metadata": {},
     "output_type": "execute_result"
    }
   ],
   "source": [
    "data = pd.read_csv('training.csv')\n",
    "data = data.dropna()\n",
    "data"
   ]
  },
  {
   "cell_type": "code",
   "execution_count": 3,
   "id": "ca8b870d",
   "metadata": {},
   "outputs": [],
   "source": [
    "df = data.sort_values(['userid', 'timestamp'], ascending=[True, True]).reset_index()\n",
    "user_avg_rating = df.groupby(df.userid)['rating'].expanding().mean().reset_index()\n",
    "user_std_rating = df.groupby(df.userid)['rating'].expanding().std().reset_index()\n",
    "user_rating_count = df.groupby(df.userid)['rating'].expanding().count().reset_index()\n",
    "\n",
    "df['user_avg_rating'] = user_avg_rating['rating']\n",
    "df['user_std_rating'] = user_std_rating['rating'].fillna(0)\n",
    "df['user_rating_count'] = user_rating_count['rating']"
   ]
  },
  {
   "cell_type": "code",
   "execution_count": 4,
   "id": "bcf42293",
   "metadata": {},
   "outputs": [
    {
     "data": {
      "text/html": [
       "<div>\n",
       "<style scoped>\n",
       "    .dataframe tbody tr th:only-of-type {\n",
       "        vertical-align: middle;\n",
       "    }\n",
       "\n",
       "    .dataframe tbody tr th {\n",
       "        vertical-align: top;\n",
       "    }\n",
       "\n",
       "    .dataframe thead th {\n",
       "        text-align: right;\n",
       "    }\n",
       "</style>\n",
       "<table border=\"1\" class=\"dataframe\">\n",
       "  <thead>\n",
       "    <tr style=\"text-align: right;\">\n",
       "      <th></th>\n",
       "      <th>index</th>\n",
       "      <th>userid</th>\n",
       "      <th>movieid</th>\n",
       "      <th>rating</th>\n",
       "      <th>timestamp</th>\n",
       "      <th>user_avg_rating</th>\n",
       "      <th>user_std_rating</th>\n",
       "      <th>user_rating_count</th>\n",
       "    </tr>\n",
       "  </thead>\n",
       "  <tbody>\n",
       "    <tr>\n",
       "      <th>0</th>\n",
       "      <td>5249</td>\n",
       "      <td>0</td>\n",
       "      <td>14.0</td>\n",
       "      <td>2.0</td>\n",
       "      <td>1.256677e+09</td>\n",
       "      <td>2.000000</td>\n",
       "      <td>0.000000</td>\n",
       "      <td>1.0</td>\n",
       "    </tr>\n",
       "    <tr>\n",
       "      <th>1</th>\n",
       "      <td>5235</td>\n",
       "      <td>0</td>\n",
       "      <td>0.0</td>\n",
       "      <td>3.5</td>\n",
       "      <td>1.256677e+09</td>\n",
       "      <td>2.750000</td>\n",
       "      <td>1.060660</td>\n",
       "      <td>2.0</td>\n",
       "    </tr>\n",
       "    <tr>\n",
       "      <th>2</th>\n",
       "      <td>5240</td>\n",
       "      <td>0</td>\n",
       "      <td>5.0</td>\n",
       "      <td>2.5</td>\n",
       "      <td>1.256677e+09</td>\n",
       "      <td>2.666667</td>\n",
       "      <td>0.763763</td>\n",
       "      <td>3.0</td>\n",
       "    </tr>\n",
       "    <tr>\n",
       "      <th>3</th>\n",
       "      <td>5243</td>\n",
       "      <td>0</td>\n",
       "      <td>8.0</td>\n",
       "      <td>4.0</td>\n",
       "      <td>1.256677e+09</td>\n",
       "      <td>3.000000</td>\n",
       "      <td>0.912871</td>\n",
       "      <td>4.0</td>\n",
       "    </tr>\n",
       "    <tr>\n",
       "      <th>4</th>\n",
       "      <td>5248</td>\n",
       "      <td>0</td>\n",
       "      <td>13.0</td>\n",
       "      <td>3.5</td>\n",
       "      <td>1.256677e+09</td>\n",
       "      <td>3.100000</td>\n",
       "      <td>0.821584</td>\n",
       "      <td>5.0</td>\n",
       "    </tr>\n",
       "  </tbody>\n",
       "</table>\n",
       "</div>"
      ],
      "text/plain": [
       "   index  userid  movieid  rating     timestamp  user_avg_rating  \\\n",
       "0   5249       0     14.0     2.0  1.256677e+09         2.000000   \n",
       "1   5235       0      0.0     3.5  1.256677e+09         2.750000   \n",
       "2   5240       0      5.0     2.5  1.256677e+09         2.666667   \n",
       "3   5243       0      8.0     4.0  1.256677e+09         3.000000   \n",
       "4   5248       0     13.0     3.5  1.256677e+09         3.100000   \n",
       "\n",
       "   user_std_rating  user_rating_count  \n",
       "0         0.000000                1.0  \n",
       "1         1.060660                2.0  \n",
       "2         0.763763                3.0  \n",
       "3         0.912871                4.0  \n",
       "4         0.821584                5.0  "
      ]
     },
     "execution_count": 4,
     "metadata": {},
     "output_type": "execute_result"
    }
   ],
   "source": [
    "data = df.copy()\n",
    "data.head()"
   ]
  },
  {
   "cell_type": "code",
   "execution_count": 5,
   "id": "d0d158d6",
   "metadata": {},
   "outputs": [],
   "source": [
    "y = data['rating'].astype('float32')"
   ]
  },
  {
   "cell_type": "code",
   "execution_count": 6,
   "id": "f7cbc16e",
   "metadata": {
    "ExecuteTime": {
     "end_time": "2022-12-26T15:38:33.711425Z",
     "start_time": "2022-12-26T15:38:33.641659Z"
    }
   },
   "outputs": [
    {
     "name": "stdout",
     "output_type": "stream",
     "text": [
      "Filtered 107673 invalid observations.\n"
     ]
    }
   ],
   "source": [
    "# source code from seminar\n",
    "\n",
    "test_timepoint = data['timestamp'].quantile(q=0.80, interpolation='nearest')\n",
    "\n",
    "test_data_ = data.query('timestamp >= @test_timepoint')\n",
    "train_data_ = data.query('userid not in @test_data_.userid.unique() and timestamp < @test_timepoint')\n",
    "\n",
    "train_data, data_index = transform_indices(train_data_.copy(), 'userid', 'movieid')\n",
    "test_data = reindex(test_data_, data_index['items'])"
   ]
  },
  {
   "cell_type": "code",
   "execution_count": 7,
   "id": "fe943988",
   "metadata": {},
   "outputs": [],
   "source": [
    "testset_, holdout_ = leave_one_out(\n",
    "    test_data, target='timestamp', sample_top=True, random_state=0\n",
    ")\n",
    "testset_valid_, holdout_valid_ = leave_one_out(\n",
    "    testset_, target='timestamp', sample_top=True, random_state=0\n",
    ")"
   ]
  },
  {
   "cell_type": "code",
   "execution_count": 8,
   "id": "fe8f4328",
   "metadata": {},
   "outputs": [],
   "source": [
    "userid = data_index['users'].name\n",
    "test_users = pd.Index(\n",
    "    # ensure test users are the same across testing data\n",
    "    np.intersect1d(\n",
    "        testset_valid_[userid].unique(),\n",
    "        holdout_valid_[userid].unique()\n",
    "    )\n",
    ")\n",
    "testset_valid = (\n",
    "    testset_valid_\n",
    "    # reindex warm-start users for convenience\n",
    "    .assign(**{userid: lambda x: test_users.get_indexer(x[userid])})\n",
    "    .query(f'{userid} >= 0')\n",
    "    .sort_values('userid')\n",
    ")\n",
    "holdout_valid = (\n",
    "    holdout_valid_\n",
    "    # reindex warm-start users for convenience\n",
    "    .assign(**{userid: lambda x: test_users.get_indexer(x[userid])})\n",
    "    .query(f'{userid} >= 0')\n",
    "    .sort_values('userid')\n",
    ")"
   ]
  },
  {
   "cell_type": "code",
   "execution_count": 9,
   "id": "93ab8070",
   "metadata": {
    "ExecuteTime": {
     "end_time": "2022-12-26T16:11:01.822845Z",
     "start_time": "2022-12-26T16:11:01.814876Z"
    }
   },
   "outputs": [],
   "source": [
    "raw_train = train_data.reset_index(drop=True)\n",
    "raw_val = testset_valid.reset_index(drop=True)\n",
    "raw_test = holdout_valid.reset_index(drop=True)"
   ]
  },
  {
   "cell_type": "code",
   "execution_count": 10,
   "id": "e250a1ed",
   "metadata": {
    "ExecuteTime": {
     "end_time": "2022-12-26T16:15:04.297003Z",
     "start_time": "2022-12-26T16:15:04.219134Z"
    }
   },
   "outputs": [
    {
     "name": "stderr",
     "output_type": "stream",
     "text": [
      "2023-03-29 13:22:16.005328: W tensorflow/stream_executor/platform/default/dso_loader.cc:64] Could not load dynamic library 'libcuda.so.1'; dlerror: libcuda.so.1: cannot open shared object file: No such file or directory; LD_LIBRARY_PATH: /usr/local/nvidia/lib:/usr/local/nvidia/lib64\n",
      "2023-03-29 13:22:16.005377: W tensorflow/stream_executor/cuda/cuda_driver.cc:263] failed call to cuInit: UNKNOWN ERROR (303)\n",
      "2023-03-29 13:22:16.005416: I tensorflow/stream_executor/cuda/cuda_diagnostics.cc:163] no NVIDIA GPU device is present: /dev/nvidia0 does not exist\n",
      "2023-03-29 13:22:16.005926: I tensorflow/core/platform/cpu_feature_guard.cc:193] This TensorFlow binary is optimized with oneAPI Deep Neural Network Library (oneDNN) to use the following CPU instructions in performance-critical operations:  AVX2 FMA\n",
      "To enable them in other operations, rebuild TensorFlow with the appropriate compiler flags.\n"
     ]
    }
   ],
   "source": [
    "train_ds = tf.data.Dataset.from_tensor_slices((dict(raw_train), y.iloc[raw_train.index])).shuffle(len(raw_train)).batch(32)\n",
    "val_ds = tf.data.Dataset.from_tensor_slices((dict(raw_val), y.iloc[raw_val.index])).shuffle(len(raw_val)).batch(32)\n",
    "test_ds = tf.data.Dataset.from_tensor_slices((dict(raw_test), y.iloc[raw_test.index])).shuffle(len(raw_test)).batch(32)"
   ]
  },
  {
   "cell_type": "code",
   "execution_count": 11,
   "id": "085ae960",
   "metadata": {
    "ExecuteTime": {
     "end_time": "2022-12-26T16:19:43.633070Z",
     "start_time": "2022-12-26T16:19:43.609091Z"
    },
    "hidden": true
   },
   "outputs": [],
   "source": [
    "inputs = {\n",
    "          'movieid' : tf.keras.layers.Input(name='movieid', shape=(), dtype = 'int32'),\n",
    "          'userid': tf.keras.layers.Input(name='userid', shape=(), dtype='int32'),\n",
    "          'user_avg_rating': tf.keras.layers.Input(name='user_avg_rating', shape=(), dtype='float32'),\n",
    "          'user_std_rating': tf.keras.layers.Input(name='user_std_rating', shape=(), dtype='float32'),\n",
    "          'user_rating_count': tf.keras.layers.Input(name='user_rating_count', shape=(), dtype='int32')\n",
    "}"
   ]
  },
  {
   "cell_type": "code",
   "execution_count": 12,
   "id": "90e3cf84",
   "metadata": {},
   "outputs": [
    {
     "data": {
      "text/plain": [
       "(48118.0, 283222)"
      ]
     },
     "execution_count": 12,
     "metadata": {},
     "output_type": "execute_result"
    }
   ],
   "source": [
    "data.movieid.max(), data.userid.max()"
   ]
  },
  {
   "cell_type": "code",
   "execution_count": 13,
   "id": "cc2fec47",
   "metadata": {
    "ExecuteTime": {
     "end_time": "2022-12-26T16:19:45.761074Z",
     "start_time": "2022-12-26T16:19:45.728083Z"
    },
    "hidden": true
   },
   "outputs": [],
   "source": [
    "movie_col = tf.feature_column.categorical_column_with_identity(key='movieid', num_buckets=48119)         \n",
    "movie_emb_col = tf.feature_column.embedding_column(movie_col, 10)\n",
    "movie_ind_col = tf.feature_column.indicator_column(movie_col)\n",
    "\n",
    "user_col = tf.feature_column.categorical_column_with_identity(key='userid', num_buckets=283223)\n",
    "user_emb_col = tf.feature_column.embedding_column(user_col, 10)\n",
    "user_ind_col = tf.feature_column.indicator_column(user_col)\n",
    "\n",
    "categorical_columns = [movie_emb_col, user_emb_col]"
   ]
  },
  {
   "cell_type": "code",
   "execution_count": 14,
   "id": "6ff978a6",
   "metadata": {
    "ExecuteTime": {
     "end_time": "2022-12-26T16:19:48.488037Z",
     "start_time": "2022-12-26T16:19:48.478069Z"
    },
    "hidden": true
   },
   "outputs": [],
   "source": [
    "user_avg_rating_col = tf.feature_column.numeric_column('user_avg_rating')\n",
    "user_std_rating_col = tf.feature_column.numeric_column('user_std_rating')\n",
    "user_rating_count_col = tf.feature_column.numeric_column('user_rating_count')\n",
    "\n",
    "numerical_columns = [user_avg_rating_col , user_std_rating_col , user_rating_count_col]"
   ]
  },
  {
   "attachments": {},
   "cell_type": "markdown",
   "id": "b94cfcde",
   "metadata": {},
   "source": [
    "Reference: \n",
    "\n",
    "https://machinelearningmastery.com/display-deep-learning-model-training-history-in-keras/"
   ]
  },
  {
   "cell_type": "code",
   "execution_count": 15,
   "id": "b0127bec",
   "metadata": {
    "ExecuteTime": {
     "end_time": "2022-12-26T16:19:50.725124Z",
     "start_time": "2022-12-26T16:19:50.711174Z"
    },
    "hidden": true
   },
   "outputs": [],
   "source": [
    "# Define plot and early stopping as the same as neuralCF\n",
    "\n",
    "def plot(history):\n",
    "    cross_entropy_train = history.history['loss']\n",
    "    cross_entropy_val = history.history['val_loss']\n",
    "\n",
    "    epochs = range(len(cross_entropy_train))\n",
    "\n",
    "    plt.title('Training and validation cross entropy')\n",
    "    plt.plot(epochs, cross_entropy_train, color='blue', label='Train')\n",
    "    plt.plot(epochs, cross_entropy_val, color='orange', label='Val')\n",
    "    plt.xlabel('Epoch')\n",
    "    plt.ylabel('Cross entropy')\n",
    "    plt.legend()"
   ]
  },
  {
   "cell_type": "code",
   "execution_count": 16,
   "id": "2bf9699b",
   "metadata": {
    "ExecuteTime": {
     "end_time": "2022-12-26T16:19:52.298933Z",
     "start_time": "2022-12-26T16:19:52.283909Z"
    },
    "hidden": true
   },
   "outputs": [],
   "source": [
    "early_stopping = tf.keras.callbacks.EarlyStopping(\n",
    "    monitor='val_loss', \n",
    "    verbose=1,\n",
    "    patience=8,\n",
    "    mode='auto',\n",
    "    restore_best_weights=True)"
   ]
  },
  {
   "attachments": {},
   "cell_type": "markdown",
   "id": "0b8f6b3e",
   "metadata": {
    "heading_collapsed": true,
    "hidden": true
   },
   "source": [
    "#### DeepFM\n"
   ]
  },
  {
   "attachments": {},
   "cell_type": "markdown",
   "id": "b1310489",
   "metadata": {},
   "source": [
    "Reference:\n",
    "\n",
    "https://towardsdatascience.com/a-performant-recommender-system-without-cold-start-problem-69bf2f0f0b9b\n",
    "\n",
    "https://colab.research.google.com/github/tensorflow/docs/blob/master/site/en/guide/migrate/migrating_feature_columns.ipynb?hl=da#scrollTo=JsoYUUgRS7hu\n",
    "\n",
    "https://towardsdatascience.com/how-to-build-a-wide-and-deep-model-using-keras-in-tensorflow-2-0-2f7a236b5a4b\n",
    "\n",
    "https://keras.io/api/models/model_training_apis/"
   ]
  },
  {
   "cell_type": "code",
   "execution_count": 17,
   "id": "ea377c51",
   "metadata": {
    "ExecuteTime": {
     "end_time": "2022-12-25T22:08:57.289214Z",
     "start_time": "2022-12-25T22:08:56.648351Z"
    },
    "hidden": true
   },
   "outputs": [],
   "source": [
    "first_order_cols = [movie_ind_col, user_ind_col]\n",
    "first_order_layer = tf.keras.layers.DenseFeatures(first_order_cols)(inputs)\n",
    "\n",
    "movie_emb_layer = tf.keras.layers.DenseFeatures([movie_emb_col])(inputs)\n",
    "user_emb_layer = tf.keras.layers.DenseFeatures([user_emb_col])(inputs)\n",
    "product_layer_movie_user = tf.keras.layers.Dot(axes=1)([movie_emb_layer, user_emb_layer])\n",
    "\n",
    "deepfm_deep = tf.keras.layers.DenseFeatures(numerical_columns+categorical_columns)(inputs)\n",
    "deepfm_deep = tf.keras.layers.Dense(256, activation='relu')(deepfm_deep)\n",
    "deepfm_deep = tf.keras.layers.Dense(128, activation='relu')(deepfm_deep)\n",
    "\n",
    "deepfm_concat_layer = tf.keras.layers.concatenate([first_order_layer, \n",
    "                                                   product_layer_movie_user, \n",
    "                                                   deepfm_deep\n",
    "                                                   ], axis=1)\n",
    "\n",
    "deepfm_output_layer = tf.keras.layers.Dense(1)(deepfm_concat_layer)\n",
    "deepfm_model = tf.keras.Model(inputs, deepfm_output_layer)"
   ]
  },
  {
   "cell_type": "code",
   "execution_count": 19,
   "id": "6c904719",
   "metadata": {
    "ExecuteTime": {
     "end_time": "2022-12-25T23:37:21.080994Z",
     "start_time": "2022-12-25T22:09:38.458127Z"
    },
    "hidden": true
   },
   "outputs": [
    {
     "name": "stdout",
     "output_type": "stream",
     "text": [
      "Epoch 1/3\n"
     ]
    },
    {
     "name": "stderr",
     "output_type": "stream",
     "text": [
      "2023-03-28 19:25:58.520369: I tensorflow/core/kernels/data/shuffle_dataset_op.cc:390] Filling up shuffle buffer (this may take a while): 2298086 of 4427415\n"
     ]
    },
    {
     "name": "stdout",
     "output_type": "stream",
     "text": [
      "     2/138357 [..............................] - ETA: 2:40:13 - loss: -968342387032064.0000   "
     ]
    },
    {
     "name": "stderr",
     "output_type": "stream",
     "text": [
      "2023-03-28 19:26:07.617757: I tensorflow/core/kernels/data/shuffle_dataset_op.cc:415] Shuffle buffer filled.\n"
     ]
    },
    {
     "name": "stdout",
     "output_type": "stream",
     "text": [
      "138357/138357 [==============================] - 9011s 65ms/step - loss: -2551003341651968.0000 - val_loss: -3675378535104512.0000\n",
      "Epoch 2/3\n"
     ]
    },
    {
     "name": "stderr",
     "output_type": "stream",
     "text": [
      "2023-03-28 21:56:17.005075: I tensorflow/core/kernels/data/shuffle_dataset_op.cc:390] Filling up shuffle buffer (this may take a while): 850964 of 4427415\n",
      "2023-03-28 21:56:18.574765: I tensorflow/core/kernels/data/shuffle_dataset_op.cc:390] Filling up shuffle buffer (this may take a while): 859160 of 4427415\n",
      "2023-03-28 21:56:28.551504: I tensorflow/core/kernels/data/shuffle_dataset_op.cc:390] Filling up shuffle buffer (this may take a while): 2936316 of 4427415\n",
      "2023-03-28 21:56:38.551738: I tensorflow/core/kernels/data/shuffle_dataset_op.cc:390] Filling up shuffle buffer (this may take a while): 3169679 of 4427415\n"
     ]
    },
    {
     "name": "stdout",
     "output_type": "stream",
     "text": [
      "     2/138357 [..............................] - ETA: 3:00:11 - loss: -4522829806567424.0000   "
     ]
    },
    {
     "name": "stderr",
     "output_type": "stream",
     "text": [
      "2023-03-28 21:56:45.752603: I tensorflow/core/kernels/data/shuffle_dataset_op.cc:415] Shuffle buffer filled.\n"
     ]
    },
    {
     "name": "stdout",
     "output_type": "stream",
     "text": [
      "138357/138357 [==============================] - ETA: 0s - loss: -8115218836094976.0000"
     ]
    },
    {
     "name": "stderr",
     "output_type": "stream",
     "text": [
      "2023-03-29 00:18:40.012012: I tensorflow/core/kernels/data/shuffle_dataset_op.cc:390] Filling up shuffle buffer (this may take a while): 1074098 of 1121741\n",
      "2023-03-29 00:18:40.275520: I tensorflow/core/kernels/data/shuffle_dataset_op.cc:415] Shuffle buffer filled.\n"
     ]
    },
    {
     "name": "stdout",
     "output_type": "stream",
     "text": [
      "138357/138357 [==============================] - 9339s 67ms/step - loss: -8115218836094976.0000 - val_loss: -10254879738036224.0000\n",
      "Epoch 3/3\n"
     ]
    },
    {
     "name": "stderr",
     "output_type": "stream",
     "text": [
      "2023-03-29 00:31:48.000626: I tensorflow/core/kernels/data/shuffle_dataset_op.cc:390] Filling up shuffle buffer (this may take a while): 2622291 of 4427415\n",
      "2023-03-29 00:31:58.000610: I tensorflow/core/kernels/data/shuffle_dataset_op.cc:390] Filling up shuffle buffer (this may take a while): 3751725 of 4427415\n"
     ]
    },
    {
     "name": "stdout",
     "output_type": "stream",
     "text": [
      "     3/138357 [..............................] - ETA: 2:49:48 - loss: -13401049582796800.0000 "
     ]
    },
    {
     "name": "stderr",
     "output_type": "stream",
     "text": [
      "2023-03-29 00:32:01.444823: I tensorflow/core/kernels/data/shuffle_dataset_op.cc:415] Shuffle buffer filled.\n"
     ]
    },
    {
     "name": "stdout",
     "output_type": "stream",
     "text": [
      "138357/138357 [==============================] - 9192s 66ms/step - loss: -19902038783557632.0000 - val_loss: -23138863576776704.0000\n"
     ]
    }
   ],
   "source": [
    "deepfm_model.compile(\n",
    "    loss=tf.keras.losses.BinaryCrossentropy(from_logits=True),\n",
    "    optimizer='adam'\n",
    ")\n",
    "\n",
    "deepfm_history = deepfm_model.fit(train_ds,\n",
    "                validation_data = val_ds, \n",
    "                callbacks=[early_stopping],\n",
    "                epochs=3)"
   ]
  },
  {
   "cell_type": "code",
   "execution_count": 18,
   "id": "417ff9b7",
   "metadata": {},
   "outputs": [
    {
     "data": {
      "image/png": "[encoded data removed]",
      "text/plain": [
       "<Figure size 432x288 with 1 Axes>"
      ]
     },
     "metadata": {
      "needs_background": "light"
     },
     "output_type": "display_data"
    }
   ],
   "source": [
    "plot(deepfm_history)"
   ]
  },
  {
   "cell_type": "code",
   "execution_count": 20,
   "id": "701df586",
   "metadata": {},
   "outputs": [
    {
     "name": "stdout",
     "output_type": "stream",
     "text": [
      "INFO:tensorflow:Assets written to: deepfm_2_crossE/assets\n"
     ]
    }
   ],
   "source": [
    "deepfm_model.save('deepfm_2_crossE', include_optimizer = False)"
   ]
  },
  {
   "cell_type": "code",
   "execution_count": null,
   "id": "38fb0b0f",
   "metadata": {},
   "outputs": [],
   "source": []
  }
 ],
 "metadata": {
  "kernelspec": {
   "display_name": "Python 3 (ipykernel)",
   "language": "python",
   "name": "python3"
  },
  "language_info": {
   "codemirror_mode": {
    "name": "ipython",
    "version": 3
   },
   "file_extension": ".py",
   "mimetype": "text/x-python",
   "name": "python",
   "nbconvert_exporter": "python",
   "pygments_lexer": "ipython3",
   "version": "3.8.10"
  },
  "toc": {
   "base_numbering": 1,
   "nav_menu": {},
   "number_sections": true,
   "sideBar": true,
   "skip_h1_title": false,
   "title_cell": "Table of Contents",
   "title_sidebar": "Contents",
   "toc_cell": false,
   "toc_position": {},
   "toc_section_display": true,
   "toc_window_display": false
  }
 },
 "nbformat": 4,
 "nbformat_minor": 5
}
