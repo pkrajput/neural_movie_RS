{
 "cells": [
  {
   "attachments": {},
   "cell_type": "markdown",
   "metadata": {},
   "source": [
    "# This source code is from seminar (CoFFee)."
   ]
  },
  {
   "cell_type": "code",
   "execution_count": 1,
   "metadata": {},
   "outputs": [],
   "source": [
    "import numpy as np\n",
    "import pandas as pd\n",
    "from polara.preprocessing.dataframes import leave_one_out, reindex\n",
    "from dataprep import transform_indices\n",
    "from evaluation import topn_recommendations\n",
    "from polara.lib.tensor import hooi\n",
    "from polara.lib.sparse import tensor_outer_at"
   ]
  },
  {
   "cell_type": "code",
   "execution_count": 2,
   "metadata": {},
   "outputs": [
    {
     "name": "stdout",
     "output_type": "stream",
     "text": [
      "train shape = (6371806, 4),\n",
      "test shape = (1368134, 4)\n",
      "\n",
      "Number of movies:\n",
      "all items = 17995,\n",
      "train items = 17092, \n",
      "test items = 17102\n",
      "\n",
      "n items not in train = 903\n"
     ]
    }
   ],
   "source": [
    "# --------------- data from kaggle ----------------\n",
    "\n",
    "data_train = pd.read_csv('training.csv').dropna()\n",
    "data_train['rating'] = data_train['rating'].round(0).astype(int)\n",
    "data_test = pd.read_csv('testset.csv')\n",
    "data_test['rating'] = data_test['rating'].round(0).astype(int)\n",
    "print(f'train shape = {data_train.shape},\\ntest shape = {data_test.shape}\\n')\n",
    "\n",
    "train_items = list(data_train['movieid'].unique())\n",
    "test_items = list(data_test['movieid'].unique())\n",
    "\n",
    "all_items = set(train_items + test_items)\n",
    "print(f'Number of movies:\\nall items = {len(all_items)},\\ntrain items = {len(train_items)}, \\ntest items = {len(test_items)}\\n')\n",
    "\n",
    "n_not_in_train = data_test.query('movieid not in @data_train.movieid.unique()').movieid.nunique()\n",
    "print(f'n items not in train = {n_not_in_train}')"
   ]
  },
  {
   "cell_type": "code",
   "execution_count": 4,
   "metadata": {},
   "outputs": [
    {
     "name": "stdout",
     "output_type": "stream",
     "text": [
      "n items not in test = 893\n",
      "n items in test = 893\n"
     ]
    }
   ],
   "source": [
    "n_not_in_test = data_train.query('movieid not in @data_test.movieid.unique()').movieid.nunique()\n",
    "n_in_test = data_train.query('movieid in @data_test.movieid.unique()').movieid.nunique()\n",
    "\n",
    "print(f'n items not in test = {n_not_in_test}')\n",
    "print(f'n items in test = {n_not_in_test}')"
   ]
  },
  {
   "cell_type": "code",
   "execution_count": 5,
   "metadata": {},
   "outputs": [
    {
     "data": {
      "text/plain": [
       "(0, 0)"
      ]
     },
     "execution_count": 5,
     "metadata": {},
     "output_type": "execute_result"
    }
   ],
   "source": [
    "training, train_data_index = transform_indices(data_train, 'userid', 'movieid')\n",
    "testset, test_data_index = transform_indices(data_test, 'userid', 'movieid')\n",
    "\n",
    "training['rating'].min(), testset['rating'].min()"
   ]
  },
  {
   "cell_type": "code",
   "execution_count": 123,
   "metadata": {},
   "outputs": [],
   "source": [
    "data_description = dict(\n",
    "    users = train_data_index['users'].name,\n",
    "    items = train_data_index['items'].name,\n",
    "    feedback = 'rating',\n",
    "    n_users = len(train_data_index['users']),\n",
    "    n_items = len(train_data_index['items']),\n",
    "    n_ratings = training['rating'].nunique(),\n",
    "    min_rating = training['rating'].min(),\n",
    "    test_users = testset[test_data_index['users'].name].drop_duplicates().values  \n",
    ")"
   ]
  },
  {
   "cell_type": "code",
   "execution_count": 124,
   "metadata": {},
   "outputs": [],
   "source": [
    "def tf_model_build(config, data, data_description):\n",
    "    userid = data_description[\"users\"]\n",
    "    itemid = data_description[\"items\"]\n",
    "    feedback = data_description[\"feedback\"]\n",
    "\n",
    "    idx = data[[userid, itemid, feedback]].values\n",
    "    idx[:, -1] = idx[:, -1] - data_description['min_rating']    # works only for integer ratings!\n",
    "    val = np.ones(idx.shape[0], dtype='f8')\n",
    "    \n",
    "    n_users = data_description[\"n_users\"]\n",
    "    n_items = data_description[\"n_items\"]\n",
    "    n_ratings = data_description[\"n_ratings\"]\n",
    "    shape = (n_users, n_items, n_ratings)\n",
    "    core_shape = config['mlrank']\n",
    "    num_iters = config[\"num_iters\"]\n",
    "    \n",
    "    u0, u1, u2, g = hooi(\n",
    "        idx, val, shape, core_shape,\n",
    "        return_core=False, num_iters=num_iters,\n",
    "        parallel_ttm=False, growth_tol=0.01,\n",
    "    )\n",
    "    return u0, u1, u2\n",
    "        "
   ]
  },
  {
   "cell_type": "code",
   "execution_count": 125,
   "metadata": {},
   "outputs": [],
   "source": [
    "config = {\n",
    "    'mlrank': (10, 10, 2),\n",
    "    \"num_iters\": 5,\n",
    "}"
   ]
  },
  {
   "cell_type": "code",
   "execution_count": 126,
   "metadata": {},
   "outputs": [
    {
     "name": "stdout",
     "output_type": "stream",
     "text": [
      "growth of the core: 1.0\n",
      "growth of the core: 0.17199603498425142\n",
      "growth of the core: 0.013735870929472668\n",
      "growth of the core: 0.002955473459604283\n",
      "Done\n"
     ]
    }
   ],
   "source": [
    "tf_params = tf_model_build(config, training, data_description)"
   ]
  },
  {
   "cell_type": "code",
   "execution_count": 127,
   "metadata": {},
   "outputs": [
    {
     "data": {
      "text/plain": [
       "(71297, 10)"
      ]
     },
     "execution_count": 127,
     "metadata": {},
     "output_type": "execute_result"
    }
   ],
   "source": [
    "tf_params[0].shape"
   ]
  },
  {
   "cell_type": "code",
   "execution_count": 128,
   "metadata": {},
   "outputs": [
    {
     "data": {
      "text/plain": [
       "(17092, 10)"
      ]
     },
     "execution_count": 128,
     "metadata": {},
     "output_type": "execute_result"
    }
   ],
   "source": [
    "tf_params[1].shape"
   ]
  },
  {
   "cell_type": "code",
   "execution_count": 129,
   "metadata": {},
   "outputs": [
    {
     "data": {
      "text/plain": [
       "(6, 2)"
      ]
     },
     "execution_count": 129,
     "metadata": {},
     "output_type": "execute_result"
    }
   ],
   "source": [
    "tf_params[2].shape"
   ]
  },
  {
   "cell_type": "markdown",
   "metadata": {},
   "source": [
    "# Generating predictions"
   ]
  },
  {
   "cell_type": "code",
   "execution_count": 134,
   "metadata": {},
   "outputs": [],
   "source": [
    "def tf_scoring(params, data, data_description):\n",
    "    user_factors, item_factors, feedback_factors = params\n",
    "    userid = data_description[\"users\"]\n",
    "    itemid = data_description[\"items\"]\n",
    "    feedback = data_description[\"feedback\"]\n",
    "\n",
    "    data = data.sort_values(userid)\n",
    "    useridx = data[userid].values\n",
    "    itemidx = data[itemid].values\n",
    "    ratings = data[feedback].values\n",
    "    ratings = ratings - data_description['min_rating'] # works only for integer ratings!\n",
    "    \n",
    "    tensor_outer = tensor_outer_at('cpu')\n",
    "    # use the fact that test data is sorted by users for reduction:\n",
    "    scores = tensor_outer(\n",
    "        1.0,\n",
    "        item_factors,\n",
    "        feedback_factors,\n",
    "        itemidx,\n",
    "        ratings\n",
    "    )\n",
    "    scores = np.add.reduceat(scores, np.r_[0, np.where(np.diff(useridx))[0]+1])\n",
    "    scores = np.tensordot(\n",
    "        scores,\n",
    "        feedback_factors[-1, :],\n",
    "        axes=(2, 0)\n",
    "    ).dot(item_factors.T)\n",
    "    return scores"
   ]
  },
  {
   "cell_type": "code",
   "execution_count": 135,
   "metadata": {},
   "outputs": [],
   "source": [
    "userid = data_description['users']\n",
    "seen_data = testset"
   ]
  },
  {
   "cell_type": "code",
   "execution_count": 136,
   "metadata": {},
   "outputs": [],
   "source": [
    "tf_scores = tf_scoring(tf_params, seen_data, data_description)"
   ]
  },
  {
   "cell_type": "code",
   "execution_count": 141,
   "metadata": {},
   "outputs": [
    {
     "data": {
      "text/plain": [
       "(2963, 17102)"
      ]
     },
     "execution_count": 141,
     "metadata": {},
     "output_type": "execute_result"
    }
   ],
   "source": [
    "testset.userid.nunique(), testset.movieid.nunique()"
   ]
  },
  {
   "cell_type": "code",
   "execution_count": 139,
   "metadata": {},
   "outputs": [
    {
     "data": {
      "text/plain": [
       "((2963, 17092), (1368134, 4))"
      ]
     },
     "execution_count": 139,
     "metadata": {},
     "output_type": "execute_result"
    }
   ],
   "source": [
    "tf_scores.shape, testset.shape"
   ]
  },
  {
   "cell_type": "code",
   "execution_count": 144,
   "metadata": {},
   "outputs": [
    {
     "data": {
      "text/plain": [
       "array([[ 1.56606231e-02, -7.91213484e-05, -1.34813865e-02, ...,\n",
       "        -1.59988298e-05,  2.03536969e-07, -6.64459577e-06],\n",
       "       [-4.52375189e-04,  1.56695055e-02,  2.81648105e-02, ...,\n",
       "         2.50992690e-05,  9.07331490e-08,  2.47021743e-05],\n",
       "       [ 1.02932254e-02, -8.14245386e-04,  1.10547316e-03, ...,\n",
       "        -3.27238476e-06,  5.65534720e-07, -8.76584079e-07],\n",
       "       ...,\n",
       "       [ 6.23958116e-02,  9.74045822e-03, -9.52910180e-03, ...,\n",
       "        -7.56884737e-07, -1.99889364e-06,  1.87427331e-05],\n",
       "       [-9.01737302e-05, -2.01185962e-05, -3.83353610e-04, ...,\n",
       "        -4.77109182e-07, -3.14531608e-08, -1.06011370e-07],\n",
       "       [ 3.33706788e-02,  1.14251361e-02, -9.08470023e-03, ...,\n",
       "        -8.55553890e-06,  9.64259106e-07,  8.79485464e-06]])"
      ]
     },
     "execution_count": 144,
     "metadata": {},
     "output_type": "execute_result"
    }
   ],
   "source": [
    "tf_scores"
   ]
  },
  {
   "cell_type": "code",
   "execution_count": 145,
   "metadata": {},
   "outputs": [],
   "source": [
    "tf_recs = topn_recommendations(tf_scores, topn=20)"
   ]
  },
  {
   "cell_type": "code",
   "execution_count": 146,
   "metadata": {},
   "outputs": [
    {
     "data": {
      "text/plain": [
       "(2963, 20)"
      ]
     },
     "execution_count": 146,
     "metadata": {},
     "output_type": "execute_result"
    }
   ],
   "source": [
    "tf_recs.shape"
   ]
  },
  {
   "cell_type": "code",
   "execution_count": 147,
   "metadata": {},
   "outputs": [
    {
     "data": {
      "text/plain": [
       "array([[ 106,  206,   62, ...,  410,  165,  156],\n",
       "       [ 262,  146,  226, ...,  415,  164,  591],\n",
       "       [ 106,  110,  165, ...,  121,  214,   61],\n",
       "       ...,\n",
       "       [ 110,   42,  864, ...,  732, 1246,  788],\n",
       "       [ 966,  732,  643, ...,  762,  472,  698],\n",
       "       [ 530,  421,  577, ...,  121,  206,  398]])"
      ]
     },
     "execution_count": 147,
     "metadata": {},
     "output_type": "execute_result"
    }
   ],
   "source": [
    "tf_recs"
   ]
  },
  {
   "cell_type": "code",
   "execution_count": 173,
   "metadata": {},
   "outputs": [
    {
     "data": {
      "text/plain": [
       "array([106, 262, 106, ..., 110, 966, 530])"
      ]
     },
     "execution_count": 173,
     "metadata": {},
     "output_type": "execute_result"
    }
   ],
   "source": [
    "tf_recs[:, 0]"
   ]
  },
  {
   "cell_type": "code",
   "execution_count": 149,
   "metadata": {},
   "outputs": [
    {
     "data": {
      "text/plain": [
       "Int64Index([    55,    133,    136,    213,    539,    604,    718,   1029,\n",
       "              1088,   1179,\n",
       "            ...\n",
       "            282326, 282382, 282402, 282420, 282522, 282663, 282836, 282999,\n",
       "            283047, 283183],\n",
       "           dtype='int64', name='userid', length=2963)"
      ]
     },
     "execution_count": 149,
     "metadata": {},
     "output_type": "execute_result"
    }
   ],
   "source": [
    "test_data_index['users']"
   ]
  },
  {
   "cell_type": "code",
   "execution_count": 174,
   "metadata": {},
   "outputs": [],
   "source": [
    "top_20_recs = {}\n",
    "for i, user in enumerate(test_data_index['users'].tolist()):\n",
    "    top_20_recs[user] = tf_recs[i,:]"
   ]
  },
  {
   "cell_type": "code",
   "execution_count": 177,
   "metadata": {},
   "outputs": [
    {
     "data": {
      "text/html": [
       "<div>\n",
       "<style scoped>\n",
       "    .dataframe tbody tr th:only-of-type {\n",
       "        vertical-align: middle;\n",
       "    }\n",
       "\n",
       "    .dataframe tbody tr th {\n",
       "        vertical-align: top;\n",
       "    }\n",
       "\n",
       "    .dataframe thead th {\n",
       "        text-align: right;\n",
       "    }\n",
       "</style>\n",
       "<table border=\"1\" class=\"dataframe\">\n",
       "  <thead>\n",
       "    <tr style=\"text-align: right;\">\n",
       "      <th></th>\n",
       "      <th>55</th>\n",
       "      <th>133</th>\n",
       "      <th>136</th>\n",
       "      <th>213</th>\n",
       "      <th>539</th>\n",
       "      <th>604</th>\n",
       "      <th>718</th>\n",
       "      <th>1029</th>\n",
       "      <th>1088</th>\n",
       "      <th>1179</th>\n",
       "      <th>...</th>\n",
       "      <th>282326</th>\n",
       "      <th>282382</th>\n",
       "      <th>282402</th>\n",
       "      <th>282420</th>\n",
       "      <th>282522</th>\n",
       "      <th>282663</th>\n",
       "      <th>282836</th>\n",
       "      <th>282999</th>\n",
       "      <th>283047</th>\n",
       "      <th>283183</th>\n",
       "    </tr>\n",
       "  </thead>\n",
       "  <tbody>\n",
       "    <tr>\n",
       "      <th>0</th>\n",
       "      <td>106</td>\n",
       "      <td>262</td>\n",
       "      <td>106</td>\n",
       "      <td>671</td>\n",
       "      <td>165</td>\n",
       "      <td>376</td>\n",
       "      <td>965</td>\n",
       "      <td>643</td>\n",
       "      <td>421</td>\n",
       "      <td>216</td>\n",
       "      <td>...</td>\n",
       "      <td>146</td>\n",
       "      <td>791</td>\n",
       "      <td>110</td>\n",
       "      <td>146</td>\n",
       "      <td>966</td>\n",
       "      <td>965</td>\n",
       "      <td>421</td>\n",
       "      <td>110</td>\n",
       "      <td>966</td>\n",
       "      <td>530</td>\n",
       "    </tr>\n",
       "    <tr>\n",
       "      <th>1</th>\n",
       "      <td>206</td>\n",
       "      <td>146</td>\n",
       "      <td>110</td>\n",
       "      <td>530</td>\n",
       "      <td>110</td>\n",
       "      <td>162</td>\n",
       "      <td>791</td>\n",
       "      <td>537</td>\n",
       "      <td>376</td>\n",
       "      <td>230</td>\n",
       "      <td>...</td>\n",
       "      <td>179</td>\n",
       "      <td>788</td>\n",
       "      <td>106</td>\n",
       "      <td>732</td>\n",
       "      <td>965</td>\n",
       "      <td>711</td>\n",
       "      <td>206</td>\n",
       "      <td>42</td>\n",
       "      <td>732</td>\n",
       "      <td>421</td>\n",
       "    </tr>\n",
       "    <tr>\n",
       "      <th>2</th>\n",
       "      <td>62</td>\n",
       "      <td>226</td>\n",
       "      <td>165</td>\n",
       "      <td>965</td>\n",
       "      <td>121</td>\n",
       "      <td>146</td>\n",
       "      <td>732</td>\n",
       "      <td>637</td>\n",
       "      <td>110</td>\n",
       "      <td>215</td>\n",
       "      <td>...</td>\n",
       "      <td>121</td>\n",
       "      <td>965</td>\n",
       "      <td>62</td>\n",
       "      <td>121</td>\n",
       "      <td>732</td>\n",
       "      <td>968</td>\n",
       "      <td>106</td>\n",
       "      <td>864</td>\n",
       "      <td>643</td>\n",
       "      <td>577</td>\n",
       "    </tr>\n",
       "    <tr>\n",
       "      <th>3</th>\n",
       "      <td>190</td>\n",
       "      <td>221</td>\n",
       "      <td>190</td>\n",
       "      <td>421</td>\n",
       "      <td>106</td>\n",
       "      <td>221</td>\n",
       "      <td>121</td>\n",
       "      <td>711</td>\n",
       "      <td>106</td>\n",
       "      <td>376</td>\n",
       "      <td>...</td>\n",
       "      <td>262</td>\n",
       "      <td>732</td>\n",
       "      <td>421</td>\n",
       "      <td>162</td>\n",
       "      <td>968</td>\n",
       "      <td>668</td>\n",
       "      <td>61</td>\n",
       "      <td>867</td>\n",
       "      <td>491</td>\n",
       "      <td>617</td>\n",
       "    </tr>\n",
       "    <tr>\n",
       "      <th>4</th>\n",
       "      <td>530</td>\n",
       "      <td>491</td>\n",
       "      <td>410</td>\n",
       "      <td>791</td>\n",
       "      <td>965</td>\n",
       "      <td>121</td>\n",
       "      <td>421</td>\n",
       "      <td>732</td>\n",
       "      <td>165</td>\n",
       "      <td>101</td>\n",
       "      <td>...</td>\n",
       "      <td>472</td>\n",
       "      <td>764</td>\n",
       "      <td>376</td>\n",
       "      <td>472</td>\n",
       "      <td>794</td>\n",
       "      <td>732</td>\n",
       "      <td>165</td>\n",
       "      <td>216</td>\n",
       "      <td>634</td>\n",
       "      <td>376</td>\n",
       "    </tr>\n",
       "    <tr>\n",
       "      <th>5</th>\n",
       "      <td>421</td>\n",
       "      <td>162</td>\n",
       "      <td>421</td>\n",
       "      <td>668</td>\n",
       "      <td>767</td>\n",
       "      <td>472</td>\n",
       "      <td>770</td>\n",
       "      <td>668</td>\n",
       "      <td>61</td>\n",
       "      <td>221</td>\n",
       "      <td>...</td>\n",
       "      <td>73</td>\n",
       "      <td>793</td>\n",
       "      <td>190</td>\n",
       "      <td>179</td>\n",
       "      <td>750</td>\n",
       "      <td>790</td>\n",
       "      <td>62</td>\n",
       "      <td>711</td>\n",
       "      <td>221</td>\n",
       "      <td>668</td>\n",
       "    </tr>\n",
       "    <tr>\n",
       "      <th>6</th>\n",
       "      <td>767</td>\n",
       "      <td>101</td>\n",
       "      <td>62</td>\n",
       "      <td>774</td>\n",
       "      <td>230</td>\n",
       "      <td>491</td>\n",
       "      <td>61</td>\n",
       "      <td>617</td>\n",
       "      <td>62</td>\n",
       "      <td>214</td>\n",
       "      <td>...</td>\n",
       "      <td>162</td>\n",
       "      <td>966</td>\n",
       "      <td>165</td>\n",
       "      <td>262</td>\n",
       "      <td>711</td>\n",
       "      <td>950</td>\n",
       "      <td>770</td>\n",
       "      <td>193</td>\n",
       "      <td>591</td>\n",
       "      <td>106</td>\n",
       "    </tr>\n",
       "    <tr>\n",
       "      <th>7</th>\n",
       "      <td>768</td>\n",
       "      <td>230</td>\n",
       "      <td>376</td>\n",
       "      <td>770</td>\n",
       "      <td>62</td>\n",
       "      <td>179</td>\n",
       "      <td>793</td>\n",
       "      <td>577</td>\n",
       "      <td>121</td>\n",
       "      <td>222</td>\n",
       "      <td>...</td>\n",
       "      <td>491</td>\n",
       "      <td>794</td>\n",
       "      <td>530</td>\n",
       "      <td>376</td>\n",
       "      <td>756</td>\n",
       "      <td>637</td>\n",
       "      <td>376</td>\n",
       "      <td>965</td>\n",
       "      <td>794</td>\n",
       "      <td>410</td>\n",
       "    </tr>\n",
       "    <tr>\n",
       "      <th>8</th>\n",
       "      <td>168</td>\n",
       "      <td>179</td>\n",
       "      <td>154</td>\n",
       "      <td>617</td>\n",
       "      <td>791</td>\n",
       "      <td>617</td>\n",
       "      <td>376</td>\n",
       "      <td>566</td>\n",
       "      <td>530</td>\n",
       "      <td>233</td>\n",
       "      <td>...</td>\n",
       "      <td>221</td>\n",
       "      <td>790</td>\n",
       "      <td>215</td>\n",
       "      <td>965</td>\n",
       "      <td>643</td>\n",
       "      <td>671</td>\n",
       "      <td>54</td>\n",
       "      <td>1037</td>\n",
       "      <td>233</td>\n",
       "      <td>671</td>\n",
       "    </tr>\n",
       "    <tr>\n",
       "      <th>9</th>\n",
       "      <td>225</td>\n",
       "      <td>392</td>\n",
       "      <td>530</td>\n",
       "      <td>565</td>\n",
       "      <td>410</td>\n",
       "      <td>577</td>\n",
       "      <td>966</td>\n",
       "      <td>591</td>\n",
       "      <td>770</td>\n",
       "      <td>537</td>\n",
       "      <td>...</td>\n",
       "      <td>171</td>\n",
       "      <td>750</td>\n",
       "      <td>61</td>\n",
       "      <td>491</td>\n",
       "      <td>762</td>\n",
       "      <td>774</td>\n",
       "      <td>530</td>\n",
       "      <td>637</td>\n",
       "      <td>198</td>\n",
       "      <td>774</td>\n",
       "    </tr>\n",
       "    <tr>\n",
       "      <th>10</th>\n",
       "      <td>807</td>\n",
       "      <td>222</td>\n",
       "      <td>216</td>\n",
       "      <td>732</td>\n",
       "      <td>216</td>\n",
       "      <td>101</td>\n",
       "      <td>794</td>\n",
       "      <td>42</td>\n",
       "      <td>410</td>\n",
       "      <td>577</td>\n",
       "      <td>...</td>\n",
       "      <td>230</td>\n",
       "      <td>968</td>\n",
       "      <td>577</td>\n",
       "      <td>221</td>\n",
       "      <td>793</td>\n",
       "      <td>966</td>\n",
       "      <td>225</td>\n",
       "      <td>230</td>\n",
       "      <td>537</td>\n",
       "      <td>110</td>\n",
       "    </tr>\n",
       "    <tr>\n",
       "      <th>11</th>\n",
       "      <td>860</td>\n",
       "      <td>215</td>\n",
       "      <td>767</td>\n",
       "      <td>624</td>\n",
       "      <td>421</td>\n",
       "      <td>73</td>\n",
       "      <td>110</td>\n",
       "      <td>376</td>\n",
       "      <td>577</td>\n",
       "      <td>226</td>\n",
       "      <td>...</td>\n",
       "      <td>127</td>\n",
       "      <td>671</td>\n",
       "      <td>206</td>\n",
       "      <td>73</td>\n",
       "      <td>1054</td>\n",
       "      <td>617</td>\n",
       "      <td>791</td>\n",
       "      <td>537</td>\n",
       "      <td>469</td>\n",
       "      <td>165</td>\n",
       "    </tr>\n",
       "    <tr>\n",
       "      <th>12</th>\n",
       "      <td>220</td>\n",
       "      <td>233</td>\n",
       "      <td>168</td>\n",
       "      <td>577</td>\n",
       "      <td>398</td>\n",
       "      <td>262</td>\n",
       "      <td>750</td>\n",
       "      <td>965</td>\n",
       "      <td>73</td>\n",
       "      <td>229</td>\n",
       "      <td>...</td>\n",
       "      <td>142</td>\n",
       "      <td>804</td>\n",
       "      <td>770</td>\n",
       "      <td>230</td>\n",
       "      <td>961</td>\n",
       "      <td>788</td>\n",
       "      <td>110</td>\n",
       "      <td>767</td>\n",
       "      <td>1520</td>\n",
       "      <td>62</td>\n",
       "    </tr>\n",
       "    <tr>\n",
       "      <th>13</th>\n",
       "      <td>110</td>\n",
       "      <td>217</td>\n",
       "      <td>577</td>\n",
       "      <td>726</td>\n",
       "      <td>168</td>\n",
       "      <td>421</td>\n",
       "      <td>726</td>\n",
       "      <td>101</td>\n",
       "      <td>40</td>\n",
       "      <td>110</td>\n",
       "      <td>...</td>\n",
       "      <td>381</td>\n",
       "      <td>961</td>\n",
       "      <td>101</td>\n",
       "      <td>226</td>\n",
       "      <td>1502</td>\n",
       "      <td>961</td>\n",
       "      <td>965</td>\n",
       "      <td>865</td>\n",
       "      <td>750</td>\n",
       "      <td>61</td>\n",
       "    </tr>\n",
       "    <tr>\n",
       "      <th>14</th>\n",
       "      <td>882</td>\n",
       "      <td>198</td>\n",
       "      <td>101</td>\n",
       "      <td>658</td>\n",
       "      <td>530</td>\n",
       "      <td>668</td>\n",
       "      <td>595</td>\n",
       "      <td>966</td>\n",
       "      <td>154</td>\n",
       "      <td>617</td>\n",
       "      <td>...</td>\n",
       "      <td>129</td>\n",
       "      <td>762</td>\n",
       "      <td>216</td>\n",
       "      <td>966</td>\n",
       "      <td>1520</td>\n",
       "      <td>577</td>\n",
       "      <td>732</td>\n",
       "      <td>885</td>\n",
       "      <td>566</td>\n",
       "      <td>770</td>\n",
       "    </tr>\n",
       "    <tr>\n",
       "      <th>15</th>\n",
       "      <td>34</td>\n",
       "      <td>258</td>\n",
       "      <td>215</td>\n",
       "      <td>790</td>\n",
       "      <td>190</td>\n",
       "      <td>226</td>\n",
       "      <td>762</td>\n",
       "      <td>123</td>\n",
       "      <td>617</td>\n",
       "      <td>398</td>\n",
       "      <td>...</td>\n",
       "      <td>174</td>\n",
       "      <td>726</td>\n",
       "      <td>768</td>\n",
       "      <td>398</td>\n",
       "      <td>700</td>\n",
       "      <td>750</td>\n",
       "      <td>726</td>\n",
       "      <td>566</td>\n",
       "      <td>968</td>\n",
       "      <td>658</td>\n",
       "    </tr>\n",
       "    <tr>\n",
       "      <th>16</th>\n",
       "      <td>178</td>\n",
       "      <td>216</td>\n",
       "      <td>34</td>\n",
       "      <td>674</td>\n",
       "      <td>732</td>\n",
       "      <td>258</td>\n",
       "      <td>530</td>\n",
       "      <td>262</td>\n",
       "      <td>668</td>\n",
       "      <td>162</td>\n",
       "      <td>...</td>\n",
       "      <td>572</td>\n",
       "      <td>755</td>\n",
       "      <td>410</td>\n",
       "      <td>40</td>\n",
       "      <td>591</td>\n",
       "      <td>793</td>\n",
       "      <td>658</td>\n",
       "      <td>229</td>\n",
       "      <td>162</td>\n",
       "      <td>565</td>\n",
       "    </tr>\n",
       "    <tr>\n",
       "      <th>17</th>\n",
       "      <td>410</td>\n",
       "      <td>415</td>\n",
       "      <td>121</td>\n",
       "      <td>376</td>\n",
       "      <td>376</td>\n",
       "      <td>61</td>\n",
       "      <td>472</td>\n",
       "      <td>698</td>\n",
       "      <td>398</td>\n",
       "      <td>732</td>\n",
       "      <td>...</td>\n",
       "      <td>76</td>\n",
       "      <td>711</td>\n",
       "      <td>225</td>\n",
       "      <td>794</td>\n",
       "      <td>1051</td>\n",
       "      <td>973</td>\n",
       "      <td>410</td>\n",
       "      <td>732</td>\n",
       "      <td>762</td>\n",
       "      <td>121</td>\n",
       "    </tr>\n",
       "    <tr>\n",
       "      <th>18</th>\n",
       "      <td>165</td>\n",
       "      <td>164</td>\n",
       "      <td>214</td>\n",
       "      <td>788</td>\n",
       "      <td>229</td>\n",
       "      <td>732</td>\n",
       "      <td>668</td>\n",
       "      <td>1051</td>\n",
       "      <td>472</td>\n",
       "      <td>198</td>\n",
       "      <td>...</td>\n",
       "      <td>40</td>\n",
       "      <td>969</td>\n",
       "      <td>34</td>\n",
       "      <td>198</td>\n",
       "      <td>668</td>\n",
       "      <td>764</td>\n",
       "      <td>768</td>\n",
       "      <td>1246</td>\n",
       "      <td>472</td>\n",
       "      <td>206</td>\n",
       "    </tr>\n",
       "    <tr>\n",
       "      <th>19</th>\n",
       "      <td>156</td>\n",
       "      <td>591</td>\n",
       "      <td>61</td>\n",
       "      <td>793</td>\n",
       "      <td>61</td>\n",
       "      <td>215</td>\n",
       "      <td>572</td>\n",
       "      <td>690</td>\n",
       "      <td>206</td>\n",
       "      <td>42</td>\n",
       "      <td>...</td>\n",
       "      <td>537</td>\n",
       "      <td>786</td>\n",
       "      <td>105</td>\n",
       "      <td>791</td>\n",
       "      <td>1330</td>\n",
       "      <td>794</td>\n",
       "      <td>222</td>\n",
       "      <td>788</td>\n",
       "      <td>698</td>\n",
       "      <td>398</td>\n",
       "    </tr>\n",
       "  </tbody>\n",
       "</table>\n",
       "<p>20 rows × 2963 columns</p>\n",
       "</div>"
      ],
      "text/plain": [
       "    55      133     136     213     539     604     718     1029    1088    \\\n",
       "0      106     262     106     671     165     376     965     643     421   \n",
       "1      206     146     110     530     110     162     791     537     376   \n",
       "2       62     226     165     965     121     146     732     637     110   \n",
       "3      190     221     190     421     106     221     121     711     106   \n",
       "4      530     491     410     791     965     121     421     732     165   \n",
       "5      421     162     421     668     767     472     770     668      61   \n",
       "6      767     101      62     774     230     491      61     617      62   \n",
       "7      768     230     376     770      62     179     793     577     121   \n",
       "8      168     179     154     617     791     617     376     566     530   \n",
       "9      225     392     530     565     410     577     966     591     770   \n",
       "10     807     222     216     732     216     101     794      42     410   \n",
       "11     860     215     767     624     421      73     110     376     577   \n",
       "12     220     233     168     577     398     262     750     965      73   \n",
       "13     110     217     577     726     168     421     726     101      40   \n",
       "14     882     198     101     658     530     668     595     966     154   \n",
       "15      34     258     215     790     190     226     762     123     617   \n",
       "16     178     216      34     674     732     258     530     262     668   \n",
       "17     410     415     121     376     376      61     472     698     398   \n",
       "18     165     164     214     788     229     732     668    1051     472   \n",
       "19     156     591      61     793      61     215     572     690     206   \n",
       "\n",
       "    1179    ...  282326  282382  282402  282420  282522  282663  282836  \\\n",
       "0      216  ...     146     791     110     146     966     965     421   \n",
       "1      230  ...     179     788     106     732     965     711     206   \n",
       "2      215  ...     121     965      62     121     732     968     106   \n",
       "3      376  ...     262     732     421     162     968     668      61   \n",
       "4      101  ...     472     764     376     472     794     732     165   \n",
       "5      221  ...      73     793     190     179     750     790      62   \n",
       "6      214  ...     162     966     165     262     711     950     770   \n",
       "7      222  ...     491     794     530     376     756     637     376   \n",
       "8      233  ...     221     790     215     965     643     671      54   \n",
       "9      537  ...     171     750      61     491     762     774     530   \n",
       "10     577  ...     230     968     577     221     793     966     225   \n",
       "11     226  ...     127     671     206      73    1054     617     791   \n",
       "12     229  ...     142     804     770     230     961     788     110   \n",
       "13     110  ...     381     961     101     226    1502     961     965   \n",
       "14     617  ...     129     762     216     966    1520     577     732   \n",
       "15     398  ...     174     726     768     398     700     750     726   \n",
       "16     162  ...     572     755     410      40     591     793     658   \n",
       "17     732  ...      76     711     225     794    1051     973     410   \n",
       "18     198  ...      40     969      34     198     668     764     768   \n",
       "19      42  ...     537     786     105     791    1330     794     222   \n",
       "\n",
       "    282999  283047  283183  \n",
       "0      110     966     530  \n",
       "1       42     732     421  \n",
       "2      864     643     577  \n",
       "3      867     491     617  \n",
       "4      216     634     376  \n",
       "5      711     221     668  \n",
       "6      193     591     106  \n",
       "7      965     794     410  \n",
       "8     1037     233     671  \n",
       "9      637     198     774  \n",
       "10     230     537     110  \n",
       "11     537     469     165  \n",
       "12     767    1520      62  \n",
       "13     865     750      61  \n",
       "14     885     566     770  \n",
       "15     566     968     658  \n",
       "16     229     162     565  \n",
       "17     732     762     121  \n",
       "18    1246     472     206  \n",
       "19     788     698     398  \n",
       "\n",
       "[20 rows x 2963 columns]"
      ]
     },
     "execution_count": 177,
     "metadata": {},
     "output_type": "execute_result"
    }
   ],
   "source": [
    "pd_top_20_recs = pd.DataFrame(top_20_recs)\n",
    "pd_top_20_recs"
   ]
  },
  {
   "cell_type": "code",
   "execution_count": 178,
   "metadata": {},
   "outputs": [],
   "source": [
    "pd_top_20_recs.to_csv('pd_top_20_recs_coffee.csv')"
   ]
  },
  {
   "cell_type": "code",
   "execution_count": null,
   "metadata": {},
   "outputs": [],
   "source": []
  }
 ],
 "metadata": {
  "interpreter": {
   "hash": "009c838d92940ae6fa3c0eca0f0908a58be7fe030119f0cd30e204cb459dcff7"
  },
  "kernelspec": {
   "display_name": "Python 3.10.2 ('rstest')",
   "language": "python",
   "name": "python3"
  },
  "language_info": {
   "codemirror_mode": {
    "name": "ipython",
    "version": 3
   },
   "file_extension": ".py",
   "mimetype": "text/x-python",
   "name": "python",
   "nbconvert_exporter": "python",
   "pygments_lexer": "ipython3",
   "version": "3.8.10"
  },
  "orig_nbformat": 4
 },
 "nbformat": 4,
 "nbformat_minor": 2
}
