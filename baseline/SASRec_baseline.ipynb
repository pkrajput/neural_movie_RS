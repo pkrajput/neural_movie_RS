{
 "cells": [
  {
   "attachments": {},
   "cell_type": "markdown",
   "metadata": {},
   "source": [
    "# Baseline model"
   ]
  },
  {
   "attachments": {},
   "cell_type": "markdown",
   "metadata": {},
   "source": [
    "source code: special seminar (NeuralRecSys_extra)\n",
    "\n",
    "data: movielens100k"
   ]
  },
  {
   "cell_type": "code",
   "execution_count": 1,
   "metadata": {},
   "outputs": [],
   "source": [
    "import pandas as pd\n",
    "import numpy as np\n",
    "from tqdm.auto import tqdm\n",
    "\n",
    "import torch\n",
    "import torch.nn as nn\n",
    "\n",
    "from polara import get_movielens_data\n",
    "from polara.preprocessing.dataframes import reindex, leave_one_out\n",
    "\n",
    "\n",
    "from dataprep import transform_indices, generate_interactions_matrix\n",
    "from evaluation import topn_recommendations, model_evaluate, downvote_seen_items"
   ]
  },
  {
   "cell_type": "code",
   "execution_count": 2,
   "metadata": {},
   "outputs": [],
   "source": [
    "def fix_torch_seed(seed):\n",
    "    torch.manual_seed(seed)\n",
    "    torch.cuda.manual_seed_all(seed)"
   ]
  },
  {
   "cell_type": "markdown",
   "metadata": {},
   "source": [
    "# Preparing data"
   ]
  },
  {
   "cell_type": "code",
   "execution_count": 3,
   "metadata": {},
   "outputs": [
    {
     "name": "stdout",
     "output_type": "stream",
     "text": [
      "(100000, 4)\n"
     ]
    },
    {
     "data": {
      "text/html": [
       "<div>\n",
       "<style scoped>\n",
       "    .dataframe tbody tr th:only-of-type {\n",
       "        vertical-align: middle;\n",
       "    }\n",
       "\n",
       "    .dataframe tbody tr th {\n",
       "        vertical-align: top;\n",
       "    }\n",
       "\n",
       "    .dataframe thead th {\n",
       "        text-align: right;\n",
       "    }\n",
       "</style>\n",
       "<table border=\"1\" class=\"dataframe\">\n",
       "  <thead>\n",
       "    <tr style=\"text-align: right;\">\n",
       "      <th></th>\n",
       "      <th>userid</th>\n",
       "      <th>movieid</th>\n",
       "      <th>rating</th>\n",
       "      <th>timestamp</th>\n",
       "    </tr>\n",
       "  </thead>\n",
       "  <tbody>\n",
       "    <tr>\n",
       "      <th>0</th>\n",
       "      <td>196</td>\n",
       "      <td>242</td>\n",
       "      <td>3</td>\n",
       "      <td>881250949</td>\n",
       "    </tr>\n",
       "    <tr>\n",
       "      <th>1</th>\n",
       "      <td>186</td>\n",
       "      <td>302</td>\n",
       "      <td>3</td>\n",
       "      <td>891717742</td>\n",
       "    </tr>\n",
       "    <tr>\n",
       "      <th>2</th>\n",
       "      <td>22</td>\n",
       "      <td>377</td>\n",
       "      <td>1</td>\n",
       "      <td>878887116</td>\n",
       "    </tr>\n",
       "  </tbody>\n",
       "</table>\n",
       "</div>"
      ],
      "text/plain": [
       "   userid  movieid  rating  timestamp\n",
       "0     196      242       3  881250949\n",
       "1     186      302       3  891717742\n",
       "2      22      377       1  878887116"
      ]
     },
     "execution_count": 3,
     "metadata": {},
     "output_type": "execute_result"
    }
   ],
   "source": [
    "# Read movie data\n",
    "movielens100k = pd.read_csv(\"u.data\",sep='\\t', header = None, names=[\"userid\" , \"movieid\" , \"rating\" , \"timestamp\"])\n",
    "print(movielens100k.shape)\n",
    "movielens100k.head(3)"
   ]
  },
  {
   "cell_type": "code",
   "execution_count": 4,
   "metadata": {},
   "outputs": [],
   "source": [
    "# set timesplit at 80%\n",
    "\n",
    "test_timepoint = movielens100k['timestamp'].quantile(\n",
    "    q=0.80, interpolation='nearest'\n",
    ")"
   ]
  },
  {
   "cell_type": "code",
   "execution_count": 5,
   "metadata": {},
   "outputs": [],
   "source": [
    "test_data_ = movielens100k.query('timestamp >= @test_timepoint')"
   ]
  },
  {
   "cell_type": "code",
   "execution_count": 6,
   "metadata": {},
   "outputs": [
    {
     "data": {
      "text/plain": [
       "userid        301\n",
       "movieid      1448\n",
       "rating          5\n",
       "timestamp    9742\n",
       "dtype: int64"
      ]
     },
     "execution_count": 6,
     "metadata": {},
     "output_type": "execute_result"
    }
   ],
   "source": [
    "test_data_.nunique()"
   ]
  },
  {
   "cell_type": "code",
   "execution_count": 7,
   "metadata": {},
   "outputs": [
    {
     "data": {
      "text/plain": [
       "(20001, 4)"
      ]
     },
     "execution_count": 7,
     "metadata": {},
     "output_type": "execute_result"
    }
   ],
   "source": [
    "test_data_.shape"
   ]
  },
  {
   "cell_type": "code",
   "execution_count": 8,
   "metadata": {},
   "outputs": [],
   "source": [
    "train_data_ = movielens100k.query(\n",
    "    'userid not in @test_data_.userid.unique() and timestamp < @test_timepoint'\n",
    ")"
   ]
  },
  {
   "cell_type": "code",
   "execution_count": 9,
   "metadata": {},
   "outputs": [],
   "source": [
    "training, data_index = transform_indices(train_data_.copy(), 'userid', 'movieid')"
   ]
  },
  {
   "cell_type": "code",
   "execution_count": 10,
   "metadata": {},
   "outputs": [
    {
     "name": "stdout",
     "output_type": "stream",
     "text": [
      "Filtered 231 invalid observations.\n"
     ]
    }
   ],
   "source": [
    "test_data = reindex(test_data_, data_index['items'])"
   ]
  },
  {
   "cell_type": "code",
   "execution_count": 11,
   "metadata": {},
   "outputs": [
    {
     "data": {
      "text/plain": [
       "userid        299\n",
       "movieid      1364\n",
       "rating          5\n",
       "timestamp    9644\n",
       "dtype: int64"
      ]
     },
     "execution_count": 11,
     "metadata": {},
     "output_type": "execute_result"
    }
   ],
   "source": [
    "test_data.nunique()"
   ]
  },
  {
   "cell_type": "code",
   "execution_count": 12,
   "metadata": {},
   "outputs": [
    {
     "data": {
      "text/plain": [
       "(19770, 4)"
      ]
     },
     "execution_count": 12,
     "metadata": {},
     "output_type": "execute_result"
    }
   ],
   "source": [
    "test_data.shape"
   ]
  },
  {
   "cell_type": "markdown",
   "metadata": {},
   "source": [
    "We sample the last item for each test user.  \n",
    "As all these users are excluded from the training, and training is additionally filtered by timestamp,\n",
    "there will be no \"recommendation from future\" issue - our model is unaware of future correlations.\n"
   ]
  },
  {
   "cell_type": "code",
   "execution_count": 13,
   "metadata": {},
   "outputs": [],
   "source": [
    "testset_, holdout_ = leave_one_out(\n",
    "    test_data, target='timestamp', sample_top=True, random_state=0\n",
    ")\n",
    "testset_valid_, holdout_valid_ = leave_one_out(\n",
    "    testset_, target='timestamp', sample_top=True, random_state=0\n",
    ")"
   ]
  },
  {
   "cell_type": "markdown",
   "metadata": {},
   "source": [
    "Let's focus on validation part."
   ]
  },
  {
   "cell_type": "code",
   "execution_count": 14,
   "metadata": {},
   "outputs": [],
   "source": [
    "userid = data_index['users'].name\n",
    "test_users = pd.Index(\n",
    "    # ensure test users are the same across testing data\n",
    "    np.intersect1d(\n",
    "        testset_valid_[userid].unique(),\n",
    "        holdout_valid_[userid].unique()\n",
    "    )\n",
    ")\n",
    "testset_valid = (\n",
    "    testset_valid_\n",
    "    # reindex warm-start users for convenience\n",
    "    .assign(**{userid: lambda x: test_users.get_indexer(x[userid])})\n",
    "    .query(f'{userid} >= 0')\n",
    "    .sort_values('userid')\n",
    ")\n",
    "holdout_valid = (\n",
    "    holdout_valid_\n",
    "    # reindex warm-start users for convenience\n",
    "    .assign(**{userid: lambda x: test_users.get_indexer(x[userid])})\n",
    "    .query(f'{userid} >= 0')\n",
    "    .sort_values('userid')\n",
    ")"
   ]
  },
  {
   "cell_type": "code",
   "execution_count": 15,
   "metadata": {},
   "outputs": [
    {
     "data": {
      "text/plain": [
       "userid        284\n",
       "movieid      1357\n",
       "rating          5\n",
       "timestamp    9289\n",
       "dtype: int64"
      ]
     },
     "execution_count": 15,
     "metadata": {},
     "output_type": "execute_result"
    }
   ],
   "source": [
    "testset_valid.nunique()"
   ]
  },
  {
   "cell_type": "code",
   "execution_count": 16,
   "metadata": {},
   "outputs": [
    {
     "data": {
      "text/plain": [
       "(284, 4)"
      ]
     },
     "execution_count": 16,
     "metadata": {},
     "output_type": "execute_result"
    }
   ],
   "source": [
    "holdout_valid.shape"
   ]
  },
  {
   "cell_type": "code",
   "execution_count": 17,
   "metadata": {},
   "outputs": [],
   "source": [
    "assert holdout_valid.set_index('userid')['timestamp'].ge(\n",
    "    testset_valid\n",
    "    .groupby('userid')\n",
    "    ['timestamp'].max()\n",
    ").all()"
   ]
  },
  {
   "cell_type": "code",
   "execution_count": 18,
   "metadata": {},
   "outputs": [
    {
     "data": {
      "text/plain": [
       "{'users': 'userid',\n",
       " 'items': 'movieid',\n",
       " 'order': 'timestamp',\n",
       " 'feedback': 'rating',\n",
       " 'n_users': 642,\n",
       " 'n_items': 1565}"
      ]
     },
     "execution_count": 18,
     "metadata": {},
     "output_type": "execute_result"
    }
   ],
   "source": [
    "data_description = dict(\n",
    "    users = data_index['users'].name,\n",
    "    items = data_index['items'].name,\n",
    "    order = 'timestamp',\n",
    "    feedback = 'rating',\n",
    "    n_users = len(data_index['users']),\n",
    "    n_items = len(data_index['items']),\n",
    ")\n",
    "data_description"
   ]
  },
  {
   "cell_type": "markdown",
   "metadata": {},
   "source": [
    "# Batch Sampler"
   ]
  },
  {
   "cell_type": "code",
   "execution_count": 19,
   "metadata": {},
   "outputs": [],
   "source": [
    "def sequential_batch_sampler(user_train, usernum, itemnum, batch_size, maxlen, seed, pad_token=None):\n",
    "    if pad_token is None:\n",
    "        pad_token = itemnum\n",
    "    \n",
    "    def sample(random_state):\n",
    "        user = random_state.randint(usernum)\n",
    "        while len(user_train.get(user, [])) <= 1:\n",
    "            user = random_state.randint(usernum)\n",
    "        user_items = user_train[user]\n",
    "        seq = np.full(maxlen, pad_token, dtype=np.int32)\n",
    "        pos = np.full(maxlen, pad_token, dtype=np.int32)\n",
    "        neg = np.full(maxlen, pad_token, dtype=np.int32)\n",
    "        nxt = user_items[-1]\n",
    "        idx = maxlen - 1\n",
    "        ts = set(user_items)\n",
    "        for i in reversed(user_items[:-1]):\n",
    "            seq[idx] = i\n",
    "            pos[idx] = nxt\n",
    "            neg[idx] = random_neq(0, itemnum, ts, random_state)\n",
    "            nxt = i\n",
    "            idx -= 1\n",
    "            if idx == -1:\n",
    "                break\n",
    "        return (user, seq, pos, neg)\n",
    "    \n",
    "    random_state = np.random.RandomState(seed)\n",
    "    while True:\n",
    "        yield zip(*(sample(random_state) for _ in range(batch_size)))\n",
    "\n",
    "\n",
    "def random_neq(l, r, s, random_state):\n",
    "    t = random_state.randint(l, r)\n",
    "    while t in s:\n",
    "        t = random_state.randint(l, r)\n",
    "    return t"
   ]
  },
  {
   "cell_type": "markdown",
   "metadata": {},
   "source": [
    "# SASRec model"
   ]
  },
  {
   "cell_type": "markdown",
   "metadata": {},
   "source": [
    "The code is adapted from https://github.com/pmixer/SASRec.pytorch"
   ]
  },
  {
   "cell_type": "code",
   "execution_count": 20,
   "metadata": {},
   "outputs": [],
   "source": [
    "class PointWiseFeedForward(nn.Module):\n",
    "    def __init__(self, hidden_units, dropout_rate):\n",
    "        super(PointWiseFeedForward, self).__init__()\n",
    "        self.conv1 = nn.Conv1d(hidden_units, hidden_units, kernel_size=1)\n",
    "        self.dropout1 = nn.Dropout(p=dropout_rate)\n",
    "        self.relu = nn.ReLU()\n",
    "        self.conv2 = nn.Conv1d(hidden_units, hidden_units, kernel_size=1)\n",
    "        self.dropout2 = nn.Dropout(p=dropout_rate)\n",
    "\n",
    "    def forward(self, inputs):\n",
    "        outputs = self.dropout2(self.conv2(self.relu(self.dropout1(self.conv1(inputs.transpose(-1, -2))))))\n",
    "        outputs = outputs.transpose(-1, -2) # as Conv1D requires (N, C, Length)\n",
    "        outputs += inputs\n",
    "        return outputs\n",
    "\n",
    "\n",
    "class SASRec(nn.Module):\n",
    "    def __init__(self, item_num, config):\n",
    "        super(SASRec, self).__init__()\n",
    "        self.item_num = item_num\n",
    "        self.pad_token = item_num\n",
    "\n",
    "        self.item_emb = nn.Embedding(self.item_num+1, config['hidden_units'], padding_idx=self.pad_token)\n",
    "        self.pos_emb = nn.Embedding(config['maxlen'], config['hidden_units'])\n",
    "        self.emb_dropout = nn.Dropout(p=config['dropout_rate'])\n",
    "\n",
    "        self.attention_layernorms = nn.ModuleList() # to be Q for self-attention\n",
    "        self.attention_layers = nn.ModuleList()\n",
    "        self.forward_layernorms = nn.ModuleList()\n",
    "        self.forward_layers = nn.ModuleList()\n",
    "        self.last_layernorm = nn.LayerNorm(config['hidden_units'], eps=1e-8)\n",
    "\n",
    "        for _ in range(config['num_blocks']):\n",
    "            new_attn_layernorm = nn.LayerNorm(config['hidden_units'], eps=1e-8)\n",
    "            self.attention_layernorms.append(new_attn_layernorm)\n",
    "            new_attn_layer =  nn.MultiheadAttention(\n",
    "                config['hidden_units'],config['num_heads'],config['dropout_rate']\n",
    "            )\n",
    "            self.attention_layers.append(new_attn_layer)\n",
    "\n",
    "            new_fwd_layernorm = nn.LayerNorm(config['hidden_units'], eps=1e-8)\n",
    "            self.forward_layernorms.append(new_fwd_layernorm)\n",
    "\n",
    "            new_fwd_layer = PointWiseFeedForward(config['hidden_units'], config['dropout_rate'])\n",
    "            self.forward_layers.append(new_fwd_layer)\n",
    "        \n",
    "        fix_torch_seed(config['manual_seed'])\n",
    "        self.initialize()\n",
    "\n",
    "\n",
    "    def initialize(self):\n",
    "        for name, param in self.named_parameters():\n",
    "            try:\n",
    "                torch.nn.init.xavier_uniform_(param.data)\n",
    "            except:\n",
    "                pass # just ignore those failed init layers\n",
    "\n",
    "\n",
    "    def log2feats(self, log_seqs):\n",
    "        device = log_seqs.device\n",
    "        seqs = self.item_emb(log_seqs)\n",
    "        seqs *= self.item_emb.embedding_dim ** 0.5\n",
    "        positions = np.tile(np.arange(log_seqs.shape[1]), [log_seqs.shape[0], 1])\n",
    "        seqs += self.pos_emb(torch.LongTensor(positions).to(device))\n",
    "        seqs = self.emb_dropout(seqs)\n",
    "\n",
    "        timeline_mask = log_seqs == self.pad_token\n",
    "        seqs *= ~timeline_mask.unsqueeze(-1) # broadcast in last dim\n",
    "\n",
    "        tl = seqs.shape[1] # time dim len for enforce causality\n",
    "        attention_mask = ~torch.tril(torch.full((tl, tl), True, device=device))\n",
    "\n",
    "        for i in range(len(self.attention_layers)):\n",
    "            seqs = torch.transpose(seqs, 0, 1)\n",
    "            Q = self.attention_layernorms[i](seqs)\n",
    "            mha_outputs, _ = self.attention_layers[i](\n",
    "                Q, seqs, seqs, attn_mask=attention_mask\n",
    "            )\n",
    "        \n",
    "            seqs = Q + mha_outputs\n",
    "            seqs = torch.transpose(seqs, 0, 1)\n",
    "\n",
    "            seqs = self.forward_layernorms[i](seqs)\n",
    "            seqs = self.forward_layers[i](seqs)\n",
    "            seqs *=  ~timeline_mask.unsqueeze(-1)\n",
    "\n",
    "        log_feats = self.last_layernorm(seqs) # (U, T, C) -> (U, -1, C)\n",
    "\n",
    "        return log_feats\n",
    "\n",
    "    def forward(self, log_seqs, pos_seqs, neg_seqs):\n",
    "        log_feats = self.log2feats(log_seqs)\n",
    "        pos_embs = self.item_emb(pos_seqs)\n",
    "        neg_embs = self.item_emb(neg_seqs)\n",
    "\n",
    "        pos_logits = (log_feats * pos_embs).sum(dim=-1)\n",
    "        neg_logits = (log_feats * neg_embs).sum(dim=-1)\n",
    "\n",
    "        return pos_logits, neg_logits\n",
    "\n",
    "\n",
    "    def score(self, seq):\n",
    "        '''\n",
    "        Takes 1d sequence as input and returns prediction scores.\n",
    "        '''\n",
    "        maxlen = self.pos_emb.num_embeddings\n",
    "        log_seqs = torch.full([maxlen], self.pad_token, dtype=torch.int64, device=seq.device)\n",
    "        log_seqs[-len(seq):] = seq[-maxlen:]\n",
    "        log_feats = self.log2feats(log_seqs.unsqueeze(0))\n",
    "        final_feat = log_feats[:, -1, :] # only use last QKV classifier\n",
    "\n",
    "        item_embs = self.item_emb.weight\n",
    "        logits = item_embs.matmul(final_feat.unsqueeze(-1)).squeeze(-1)\n",
    "        return logits"
   ]
  },
  {
   "cell_type": "markdown",
   "metadata": {},
   "source": [
    "## Training "
   ]
  },
  {
   "cell_type": "code",
   "execution_count": 21,
   "metadata": {},
   "outputs": [],
   "source": [
    "def data_to_sequences(data, data_description):\n",
    "    userid = data_description['users']\n",
    "    itemid = data_description['items']\n",
    "    sequences = (\n",
    "        data.sort_values([userid, data_description['order']])\n",
    "        .groupby(userid, sort=False)[itemid].apply(list)\n",
    "    )\n",
    "    return sequences"
   ]
  },
  {
   "cell_type": "code",
   "execution_count": 22,
   "metadata": {},
   "outputs": [],
   "source": [
    "def prepare_sasrec_model(config, data, data_description):\n",
    "    n_users = data_description['n_users']    \n",
    "    n_items = data_description['n_items']    \n",
    "    model = SASRec(n_items, config)\n",
    "    criterion = torch.nn.BCEWithLogitsLoss()\n",
    "    if torch.cuda.is_available():\n",
    "        model = model.cuda()\n",
    "        criterion = criterion.cuda()\n",
    "\n",
    "    train_sequences = data_to_sequences(data, data_description)\n",
    "    sampler = sequential_batch_sampler(\n",
    "        train_sequences, n_users, n_items,\n",
    "        batch_size = config['batch_size'],\n",
    "        maxlen = config['maxlen'],\n",
    "        seed = config['sampler_seed'],\n",
    "        pad_token = model.pad_token\n",
    "    )\n",
    "    n_batches = len(train_sequences) // config['batch_size']\n",
    "    optimizer = torch.optim.Adam(\n",
    "        model.parameters(),\n",
    "        lr = config['learning_rate'],\n",
    "        betas = (0.9, 0.98)\n",
    "    )\n",
    "    return model, sampler, n_batches, criterion, optimizer"
   ]
  },
  {
   "cell_type": "code",
   "execution_count": 23,
   "metadata": {},
   "outputs": [],
   "source": [
    "def train_sasrec_epoch(model, num_batch, l2_emb, sampler, optimizer, criterion, device):\n",
    "    model.train()\n",
    "    pad_token = model.pad_token\n",
    "    losses = []\n",
    "    for _ in range(num_batch):\n",
    "        _, *seq_data = next(sampler)\n",
    "        # convert batch data into torch tensors\n",
    "        seq, pos, neg = (torch.LongTensor(np.array(x)).to(device) for x in seq_data)\n",
    "        pos_logits, neg_logits = model(seq, pos, neg)\n",
    "        pos_labels = torch.ones(pos_logits.shape, device=device)\n",
    "        neg_labels = torch.zeros(neg_logits.shape, device=device)\n",
    "        optimizer.zero_grad()\n",
    "        indices = torch.where(pos != pad_token)\n",
    "        loss = criterion(pos_logits[indices], pos_labels[indices])\n",
    "        loss += criterion(neg_logits[indices], neg_labels[indices])\n",
    "        if l2_emb != 0:\n",
    "            for param in model.item_emb.parameters():\n",
    "                loss += l2_emb * torch.norm(param)**2\n",
    "        loss.backward()\n",
    "        optimizer.step()\n",
    "        losses.append(loss.item())\n",
    "    return losses"
   ]
  },
  {
   "cell_type": "code",
   "execution_count": 24,
   "metadata": {},
   "outputs": [],
   "source": [
    "def build_sasrec_model(config, data, data_description):\n",
    "    '''Simple MF training routine without early stopping'''\n",
    "    model, sampler, n_batches, criterion, optimizer = prepare_sasrec_model(config, data, data_description)\n",
    "    device = 'cpu'\n",
    "    if torch.cuda.is_available():\n",
    "        device = torch.device(f'cuda:{torch.cuda.current_device()}') \n",
    "    losses = {}\n",
    "    for epoch in tqdm(range(config['num_epochs'])):\n",
    "        losses[epoch] = train_sasrec_epoch(\n",
    "            model, n_batches, config['l2_emb'], sampler, optimizer, criterion, device\n",
    "        )\n",
    "    return model, losses"
   ]
  },
  {
   "cell_type": "code",
   "execution_count": 25,
   "metadata": {},
   "outputs": [],
   "source": [
    "config = dict(\n",
    "    num_epochs = 20,\n",
    "    maxlen = 200,\n",
    "    hidden_units = 64,\n",
    "    dropout_rate = 0.4,\n",
    "    num_blocks = 1,\n",
    "    num_heads = 1,\n",
    "    batch_size = 64,\n",
    "    sampler_seed = 99,\n",
    "    manual_seed = 111,\n",
    "    learning_rate = 1e-3,\n",
    "    l2_emb = 0,\n",
    ")"
   ]
  },
  {
   "cell_type": "code",
   "execution_count": 26,
   "metadata": {},
   "outputs": [
    {
     "data": {
      "application/json": {
       "ascii": false,
       "bar_format": null,
       "colour": null,
       "elapsed": 0.005463600158691406,
       "initial": 0,
       "n": 0,
       "ncols": null,
       "nrows": null,
       "postfix": null,
       "prefix": "",
       "rate": null,
       "total": 20,
       "unit": "it",
       "unit_divisor": 1000,
       "unit_scale": false
      },
      "application/vnd.jupyter.widget-view+json": {
       "model_id": "3d1d5d18967f4de99a932e1f082374f2",
       "version_major": 2,
       "version_minor": 0
      },
      "text/plain": [
       "  0%|          | 0/20 [00:00<?, ?it/s]"
      ]
     },
     "metadata": {},
     "output_type": "display_data"
    }
   ],
   "source": [
    "model, losses = build_sasrec_model(config, training, data_description)"
   ]
  },
  {
   "cell_type": "code",
   "execution_count": 27,
   "metadata": {},
   "outputs": [
    {
     "data": {
      "text/plain": [
       "20"
      ]
     },
     "execution_count": 27,
     "metadata": {},
     "output_type": "execute_result"
    }
   ],
   "source": [
    "len(losses)"
   ]
  },
  {
   "cell_type": "code",
   "execution_count": 28,
   "metadata": {},
   "outputs": [
    {
     "data": {
      "image/png": "[encoded data removed]",
      "text/plain": [
       "<Figure size 432x288 with 1 Axes>"
      ]
     },
     "metadata": {
      "needs_background": "light"
     },
     "output_type": "display_data"
    }
   ],
   "source": [
    "pd.Series(losses).apply(np.mean).plot(title='Evolution of SASRec loss', xlabel='Epoch', ylabel='Loss');"
   ]
  },
  {
   "cell_type": "code",
   "execution_count": 29,
   "metadata": {},
   "outputs": [
    {
     "data": {
      "text/plain": [
       "10"
      ]
     },
     "execution_count": 29,
     "metadata": {},
     "output_type": "execute_result"
    }
   ],
   "source": [
    "len(losses[0])"
   ]
  },
  {
   "cell_type": "code",
   "execution_count": 30,
   "metadata": {},
   "outputs": [
    {
     "data": {
      "text/plain": [
       "[1.407297134399414,\n",
       " 1.40506911277771,\n",
       " 1.3978288173675537,\n",
       " 1.3914268016815186,\n",
       " 1.3848435878753662,\n",
       " 1.3803174495697021,\n",
       " 1.3763352632522583,\n",
       " 1.3612090349197388,\n",
       " 1.369307279586792,\n",
       " 1.3611211776733398]"
      ]
     },
     "execution_count": 30,
     "metadata": {},
     "output_type": "execute_result"
    }
   ],
   "source": [
    "losses[0]"
   ]
  },
  {
   "cell_type": "code",
   "execution_count": 31,
   "metadata": {},
   "outputs": [
    {
     "data": {
      "image/png": "[encoded data removed]",
      "text/plain": [
       "<Figure size 432x288 with 1 Axes>"
      ]
     },
     "metadata": {
      "needs_background": "light"
     },
     "output_type": "display_data"
    }
   ],
   "source": [
    "epoch = 0\n",
    "epoch_loss_series = pd.Series(losses[epoch], name='Loss').rename_axis('batch')\n",
    "ax = epoch_loss_series.reset_index().plot.scatter(\n",
    "    x='batch', y='Loss', title=f'Batch loss at epoch {epoch} '\n",
    ")"
   ]
  },
  {
   "cell_type": "code",
   "execution_count": 32,
   "metadata": {},
   "outputs": [
    {
     "data": {
      "text/plain": [
       "batch\n",
       "0    1.407297\n",
       "1    1.405069\n",
       "2    1.397829\n",
       "3    1.391427\n",
       "4    1.384844\n",
       "5    1.380317\n",
       "6    1.376335\n",
       "7    1.361209\n",
       "8    1.369307\n",
       "9    1.361121\n",
       "Name: Loss, dtype: float64"
      ]
     },
     "execution_count": 32,
     "metadata": {},
     "output_type": "execute_result"
    }
   ],
   "source": [
    "epoch_loss_series"
   ]
  },
  {
   "cell_type": "code",
   "execution_count": 33,
   "metadata": {},
   "outputs": [
    {
     "data": {
      "image/png": "[encoded data removed]",
      "text/plain": [
       "<Figure size 432x288 with 1 Axes>"
      ]
     },
     "metadata": {
      "needs_background": "light"
     },
     "output_type": "display_data"
    }
   ],
   "source": [
    "epoch = 0\n",
    "epoch_loss_series = pd.Series(losses[epoch], name='Loss').rename_axis('batch')\n",
    "ax = epoch_loss_series.reset_index().plot.scatter(\n",
    "    x='batch', y='Loss', title=f'Batch loss at epoch {epoch} '\n",
    ")"
   ]
  },
  {
   "cell_type": "markdown",
   "metadata": {},
   "source": [
    "# Evaluation"
   ]
  },
  {
   "cell_type": "code",
   "execution_count": 34,
   "metadata": {},
   "outputs": [],
   "source": [
    "def sasrec_model_scoring(params, data, data_description):\n",
    "    model = params\n",
    "    model.eval()\n",
    "    tensor = torch.cuda.LongTensor if torch.cuda.is_available() else torch.LongTensor\n",
    "    test_sequences = data_to_sequences(data, data_description)\n",
    "    # perform scoring on a user-batch level\n",
    "    scores = []\n",
    "    for _, seq in test_sequences.items():\n",
    "        with torch.no_grad():\n",
    "            predictions = model.score(tensor(seq))\n",
    "        scores.append(predictions.detach().cpu().numpy())\n",
    "    return np.concatenate(scores, axis=0)"
   ]
  },
  {
   "cell_type": "code",
   "execution_count": 35,
   "metadata": {},
   "outputs": [],
   "source": [
    "sasrec_scores = sasrec_model_scoring(model, testset_valid, data_description)"
   ]
  },
  {
   "cell_type": "code",
   "execution_count": 36,
   "metadata": {},
   "outputs": [],
   "source": [
    "downvote_seen_items(sasrec_scores, testset_valid, data_description)"
   ]
  },
  {
   "cell_type": "code",
   "execution_count": 37,
   "metadata": {},
   "outputs": [
    {
     "data": {
      "text/plain": [
       "(0.09859154929577464, 0.05275821596244131, 0.09456869009584665)"
      ]
     },
     "execution_count": 37,
     "metadata": {},
     "output_type": "execute_result"
    }
   ],
   "source": [
    "sasrec_recs = topn_recommendations(sasrec_scores, topn=5)\n",
    "model_evaluate(sasrec_recs, holdout_valid, data_description)"
   ]
  },
  {
   "cell_type": "code",
   "execution_count": null,
   "metadata": {},
   "outputs": [],
   "source": []
  }
 ],
 "metadata": {
  "interpreter": {
   "hash": "e587e8b75394de48c2e2a47def3a5e72a23054844b7abdff48af37dc7e76636d"
  },
  "kernelspec": {
   "display_name": "Python 3.9.10 ('torch')",
   "language": "python",
   "name": "python3"
  },
  "language_info": {
   "codemirror_mode": {
    "name": "ipython",
    "version": 3
   },
   "file_extension": ".py",
   "mimetype": "text/x-python",
   "name": "python",
   "nbconvert_exporter": "python",
   "pygments_lexer": "ipython3",
   "version": "3.8.10"
  },
  "orig_nbformat": 4
 },
 "nbformat": 4,
 "nbformat_minor": 2
}
