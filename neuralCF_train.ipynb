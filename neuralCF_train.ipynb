{
 "cells": [
  {
   "cell_type": "code",
   "execution_count": 1,
   "id": "12c9e9b2",
   "metadata": {
    "ExecuteTime": {
     "end_time": "2022-12-26T15:37:43.373475Z",
     "start_time": "2022-12-26T15:37:39.134513Z"
    }
   },
   "outputs": [
    {
     "name": "stderr",
     "output_type": "stream",
     "text": [
      "2023-03-28 12:32:11.039314: I tensorflow/core/platform/cpu_feature_guard.cc:193] This TensorFlow binary is optimized with oneAPI Deep Neural Network Library (oneDNN) to use the following CPU instructions in performance-critical operations:  AVX2 FMA\n",
      "To enable them in other operations, rebuild TensorFlow with the appropriate compiler flags.\n",
      "2023-03-28 12:32:11.186977: E tensorflow/stream_executor/cuda/cuda_blas.cc:2981] Unable to register cuBLAS factory: Attempting to register factory for plugin cuBLAS when one has already been registered\n",
      "2023-03-28 12:32:11.776898: W tensorflow/stream_executor/platform/default/dso_loader.cc:64] Could not load dynamic library 'libnvinfer.so.7'; dlerror: libnvinfer.so.7: cannot open shared object file: No such file or directory; LD_LIBRARY_PATH: /usr/local/nvidia/lib:/usr/local/nvidia/lib64\n",
      "2023-03-28 12:32:11.776980: W tensorflow/stream_executor/platform/default/dso_loader.cc:64] Could not load dynamic library 'libnvinfer_plugin.so.7'; dlerror: libnvinfer_plugin.so.7: cannot open shared object file: No such file or directory; LD_LIBRARY_PATH: /usr/local/nvidia/lib:/usr/local/nvidia/lib64\n",
      "2023-03-28 12:32:11.776989: W tensorflow/compiler/tf2tensorrt/utils/py_utils.cc:38] TF-TRT Warning: Cannot dlopen some TensorRT libraries. If you would like to use Nvidia GPU with TensorRT, please make sure the missing libraries mentioned above are installed properly.\n",
      "/usr/local/lib/python3.8/dist-packages/requests/__init__.py:102: RequestsDependencyWarning: urllib3 (1.26.11) or chardet (5.0.0)/charset_normalizer (2.0.12) doesn't match a supported version!\n",
      "  warnings.warn(\"urllib3 ({}) or chardet ({})/charset_normalizer ({}) doesn't match a supported \"\n"
     ]
    }
   ],
   "source": [
    "import pandas as pd\n",
    "import numpy as np\n",
    "import tensorflow as tf\n",
    "from tensorflow.keras import backend as K\n",
    "import matplotlib.pyplot as plt\n",
    "from sentence_transformers import SentenceTransformer\n",
    "\n",
    "from dataprep import transform_indices\n",
    "from polara.preprocessing.dataframes import reindex, leave_one_out\n",
    "\n",
    "import pickle"
   ]
  },
  {
   "cell_type": "code",
   "execution_count": 2,
   "id": "7e2af0b2",
   "metadata": {},
   "outputs": [],
   "source": [
    "data = pd.read_csv('training.csv')"
   ]
  },
  {
   "cell_type": "code",
   "execution_count": 3,
   "id": "71c16809",
   "metadata": {},
   "outputs": [
    {
     "data": {
      "text/plain": [
       "48118.0"
      ]
     },
     "execution_count": 3,
     "metadata": {},
     "output_type": "execute_result"
    }
   ],
   "source": [
    "data['movieid'].max()"
   ]
  },
  {
   "cell_type": "code",
   "execution_count": 65,
   "id": "580a5dbd",
   "metadata": {},
   "outputs": [
    {
     "data": {
      "text/plain": [
       "283222"
      ]
     },
     "execution_count": 65,
     "metadata": {},
     "output_type": "execute_result"
    }
   ],
   "source": [
    "data['userid'].max()"
   ]
  },
  {
   "cell_type": "code",
   "execution_count": 5,
   "id": "f7cbc16e",
   "metadata": {
    "ExecuteTime": {
     "end_time": "2022-12-26T15:38:33.711425Z",
     "start_time": "2022-12-26T15:38:33.641659Z"
    }
   },
   "outputs": [
    {
     "name": "stdout",
     "output_type": "stream",
     "text": [
      "Filtered 107673 invalid observations.\n"
     ]
    }
   ],
   "source": [
    "# source code from seminar\n",
    "test_timepoint = data['timestamp'].quantile(q=0.80, interpolation='nearest')\n",
    "\n",
    "test_data_ = data.query('timestamp >= @test_timepoint')\n",
    "train_data_ = data.query('userid not in @test_data_.userid.unique() and timestamp < @test_timepoint')\n",
    "\n",
    "train_data, data_index = transform_indices(train_data_.copy(), 'userid', 'movieid')\n",
    "test_data = reindex(test_data_, data_index['items'])"
   ]
  },
  {
   "cell_type": "code",
   "execution_count": 28,
   "id": "f97a831f",
   "metadata": {
    "ExecuteTime": {
     "end_time": "2022-12-26T15:38:44.769435Z",
     "start_time": "2022-12-26T15:38:44.743522Z"
    }
   },
   "outputs": [],
   "source": [
    "y = data['rating'].astype('float32')"
   ]
  },
  {
   "cell_type": "code",
   "execution_count": 18,
   "id": "52cb80ba",
   "metadata": {},
   "outputs": [],
   "source": [
    "testset_, holdout_ = leave_one_out(\n",
    "    test_data, target='timestamp', sample_top=True, random_state=0\n",
    ")\n",
    "testset_valid_, holdout_valid_ = leave_one_out(\n",
    "    testset_, target='timestamp', sample_top=True, random_state=0\n",
    ")"
   ]
  },
  {
   "cell_type": "code",
   "execution_count": 19,
   "id": "7cec324c",
   "metadata": {},
   "outputs": [],
   "source": [
    "userid = data_index['users'].name\n",
    "test_users = pd.Index(\n",
    "    # ensure test users are the same across testing data\n",
    "    np.intersect1d(\n",
    "        testset_valid_[userid].unique(),\n",
    "        holdout_valid_[userid].unique()\n",
    "    )\n",
    ")\n",
    "testset_valid = (\n",
    "    testset_valid_\n",
    "    # reindex warm-start users for convenience\n",
    "    .assign(**{userid: lambda x: test_users.get_indexer(x[userid])})\n",
    "    .query(f'{userid} >= 0')\n",
    "    .sort_values('userid')\n",
    ")\n",
    "holdout_valid = (\n",
    "    holdout_valid_\n",
    "    # reindex warm-start users for convenience\n",
    "    .assign(**{userid: lambda x: test_users.get_indexer(x[userid])})\n",
    "    .query(f'{userid} >= 0')\n",
    "    .sort_values('userid')\n",
    ")"
   ]
  },
  {
   "cell_type": "code",
   "execution_count": 23,
   "id": "27babaa6",
   "metadata": {},
   "outputs": [],
   "source": [
    "assert holdout_valid.set_index('userid')['timestamp'].ge(\n",
    "    testset_valid\n",
    "    .groupby('userid')\n",
    "    ['timestamp'].max()\n",
    ").all()"
   ]
  },
  {
   "cell_type": "code",
   "execution_count": 26,
   "id": "e82b6133",
   "metadata": {},
   "outputs": [],
   "source": [
    "raw_train = train_data.reset_index(drop=True)\n",
    "raw_val  = testset_valid.reset_index(drop=True)\n",
    "raw_test  = holdout_valid.reset_index(drop=True)"
   ]
  },
  {
   "cell_type": "code",
   "execution_count": 29,
   "id": "e250a1ed",
   "metadata": {
    "ExecuteTime": {
     "end_time": "2022-12-26T16:15:04.297003Z",
     "start_time": "2022-12-26T16:15:04.219134Z"
    }
   },
   "outputs": [
    {
     "name": "stderr",
     "output_type": "stream",
     "text": [
      "2023-03-28 12:34:04.897812: W tensorflow/stream_executor/platform/default/dso_loader.cc:64] Could not load dynamic library 'libcuda.so.1'; dlerror: libcuda.so.1: cannot open shared object file: No such file or directory; LD_LIBRARY_PATH: /usr/local/nvidia/lib:/usr/local/nvidia/lib64\n",
      "2023-03-28 12:34:04.897855: W tensorflow/stream_executor/cuda/cuda_driver.cc:263] failed call to cuInit: UNKNOWN ERROR (303)\n",
      "2023-03-28 12:34:04.897890: I tensorflow/stream_executor/cuda/cuda_diagnostics.cc:163] no NVIDIA GPU device is present: /dev/nvidia0 does not exist\n",
      "2023-03-28 12:34:04.898204: I tensorflow/core/platform/cpu_feature_guard.cc:193] This TensorFlow binary is optimized with oneAPI Deep Neural Network Library (oneDNN) to use the following CPU instructions in performance-critical operations:  AVX2 FMA\n",
      "To enable them in other operations, rebuild TensorFlow with the appropriate compiler flags.\n"
     ]
    }
   ],
   "source": [
    "# Feed into tf dataset\n",
    "# shuffle and batch\n",
    "train_ds = tf.data.Dataset.from_tensor_slices((dict(raw_train), y.iloc[raw_train.index])).shuffle(len(raw_train)).batch(32)\n",
    "val_ds = tf.data.Dataset.from_tensor_slices((dict(raw_val), y.iloc[raw_val.index])).shuffle(len(raw_val)).batch(32)\n",
    "test_ds = tf.data.Dataset.from_tensor_slices((dict(raw_test), y.iloc[raw_test.index])).shuffle(len(raw_test)).batch(32)"
   ]
  },
  {
   "cell_type": "markdown",
   "id": "ff0afd47",
   "metadata": {
    "heading_collapsed": true
   },
   "source": [
    "### Define inputs and feature columns"
   ]
  },
  {
   "cell_type": "code",
   "execution_count": 30,
   "id": "085ae960",
   "metadata": {
    "ExecuteTime": {
     "end_time": "2022-12-26T16:19:43.633070Z",
     "start_time": "2022-12-26T16:19:43.609091Z"
    },
    "hidden": true
   },
   "outputs": [],
   "source": [
    "# Define tensorflow inputs\n",
    "inputs = {          \n",
    "          'movieid' : tf.keras.layers.Input(name='movieid', shape=(), dtype = 'int32'),\n",
    "          'userid': tf.keras.layers.Input(name='userid', shape=(), dtype='int32'),\n",
    "}"
   ]
  },
  {
   "cell_type": "code",
   "execution_count": 32,
   "id": "cc2fec47",
   "metadata": {
    "ExecuteTime": {
     "end_time": "2022-12-26T16:19:45.761074Z",
     "start_time": "2022-12-26T16:19:45.728083Z"
    },
    "hidden": true
   },
   "outputs": [],
   "source": [
    "# <--movieId-->\n",
    "# Categorized\n",
    "movie_col = tf.feature_column.categorical_column_with_identity(key='movieid', num_buckets=48119)         \n",
    "# Embedding\n",
    "movie_emb_col = tf.feature_column.embedding_column(movie_col, 10)\n",
    "# Indicator\n",
    "movie_ind_col = tf.feature_column.indicator_column(movie_col)\n",
    "\n",
    "# <--userId-->\n",
    "# Categorized\n",
    "user_col = tf.feature_column.categorical_column_with_identity(key='userid', num_buckets=283223)\n",
    "# Embedding\n",
    "user_emb_col = tf.feature_column.embedding_column(user_col, 10)\n",
    "# Indicator\n",
    "user_ind_col = tf.feature_column.indicator_column(user_col)\n",
    "\n",
    "categorical_columns = [movie_emb_col, user_emb_col]"
   ]
  },
  {
   "attachments": {},
   "cell_type": "markdown",
   "id": "99e930ca",
   "metadata": {
    "heading_collapsed": true,
    "hidden": true
   },
   "source": [
    "#### Utility functions\n",
    "\n",
    "Reference:\n",
    "\n",
    "https://machinelearningmastery.com/display-deep-learning-model-training-history-in-keras/"
   ]
  },
  {
   "cell_type": "code",
   "execution_count": 59,
   "id": "b0127bec",
   "metadata": {
    "ExecuteTime": {
     "end_time": "2022-12-26T16:19:50.725124Z",
     "start_time": "2022-12-26T16:19:50.711174Z"
    },
    "hidden": true
   },
   "outputs": [],
   "source": [
    "# Define function to plot training and validation loss \n",
    "\n",
    "def plot(history):\n",
    "    \n",
    "    cross_entropy_train = history.history['loss']\n",
    "    cross_entropy_val = history.history['val_loss']\n",
    "\n",
    "    plt.title('Training and validation binary cross entropy loss')\n",
    "    plt.plot(cross_entropy_train, color='blue', label='Train')\n",
    "    plt.plot(cross_entropy_val, color='orange', label='Val')\n",
    "    plt.xlabel('Epoch')\n",
    "    plt.ylabel('Binary Cross Entropy Loss')\n",
    "    plt.legend()"
   ]
  },
  {
   "cell_type": "code",
   "execution_count": 35,
   "id": "2bf9699b",
   "metadata": {
    "ExecuteTime": {
     "end_time": "2022-12-26T16:19:52.298933Z",
     "start_time": "2022-12-26T16:19:52.283909Z"
    },
    "hidden": true
   },
   "outputs": [],
   "source": [
    "# Define early stopping callback\n",
    "early_stopping = tf.keras.callbacks.EarlyStopping(\n",
    "    monitor='val_loss', \n",
    "    verbose=1,\n",
    "    patience=8,\n",
    "    mode='auto',\n",
    "    restore_best_weights=True)"
   ]
  },
  {
   "attachments": {},
   "cell_type": "markdown",
   "id": "a91a3342",
   "metadata": {
    "heading_collapsed": true,
    "hidden": true
   },
   "source": [
    "#### NeuralCF"
   ]
  },
  {
   "attachments": {},
   "cell_type": "markdown",
   "id": "efb49661",
   "metadata": {},
   "source": [
    "References: \n",
    "\n",
    "https://androidkt.com/concatenate-two-layers-using-keras-layers-concatenate-example/\n",
    "\n",
    "https://towardsdatascience.com/a-performant-recommender-system-without-cold-start-problem-69bf2f0f0b9b\n",
    "\n",
    "https://keras.io/api/models/model_training_apis/"
   ]
  },
  {
   "cell_type": "code",
   "execution_count": 36,
   "id": "e1dcbbb0",
   "metadata": {
    "ExecuteTime": {
     "end_time": "2022-12-26T16:19:55.118704Z",
     "start_time": "2022-12-26T16:19:54.974189Z"
    },
    "hidden": true
   },
   "outputs": [],
   "source": [
    "# NeuralCF\n",
    "\n",
    "# Concatenate userid embedding and movieid embedding \n",
    "mlp = tf.keras.layers.concatenate([tf.keras.layers.DenseFeatures([movie_emb_col])(inputs), tf.keras.layers.DenseFeatures([user_emb_col])(inputs)])\n",
    "\n",
    "mlp = tf.keras.layers.Dense(64, activation='relu')(mlp)\n",
    "mlp = tf.keras.layers.Dense(32, activation='relu')(mlp)\n",
    "\n",
    "# Output Layer\n",
    "neuralCF_output_layer = tf.keras.layers.Dense(1)(mlp)\n",
    "\n",
    "# Define model\n",
    "neuralCF_model = tf.keras.Model(inputs, neuralCF_output_layer)"
   ]
  },
  {
   "cell_type": "code",
   "execution_count": 45,
   "id": "259a77fe",
   "metadata": {
    "ExecuteTime": {
     "end_time": "2022-12-25T19:35:35.019329Z",
     "start_time": "2022-12-25T19:20:28.790695Z"
    },
    "code_folding": [],
    "hidden": true
   },
   "outputs": [],
   "source": [
    "neuralCF_model.compile(\n",
    "    loss=tf.keras.losses.BinaryCrossentropy(from_logits=True, reduction=tf.keras.losses.Reduction.NONE),\n",
    "    optimizer='adam'\n",
    ")"
   ]
  },
  {
   "cell_type": "code",
   "execution_count": 46,
   "id": "3898c8c3",
   "metadata": {},
   "outputs": [
    {
     "name": "stdout",
     "output_type": "stream",
     "text": [
      "Epoch 1/10\n"
     ]
    },
    {
     "name": "stderr",
     "output_type": "stream",
     "text": [
      "/usr/local/lib/python3.8/dist-packages/keras/engine/functional.py:637: UserWarning: Input dict contained keys ['rating', 'timestamp'] which did not match any model input. They will be ignored by the model.\n",
      "  inputs = self._flatten_to_reference_inputs(inputs)\n",
      "2023-03-28 13:10:42.112759: I tensorflow/core/kernels/data/shuffle_dataset_op.cc:390] Filling up shuffle buffer (this may take a while): 3780819 of 4427415\n"
     ]
    },
    {
     "name": "stdout",
     "output_type": "stream",
     "text": [
      "     8/138357 [..............................] - ETA: 59:05 - loss: -1703492714496.0000  "
     ]
    },
    {
     "name": "stderr",
     "output_type": "stream",
     "text": [
      "2023-03-28 13:10:43.833883: I tensorflow/core/kernels/data/shuffle_dataset_op.cc:415] Shuffle buffer filled.\n"
     ]
    },
    {
     "name": "stdout",
     "output_type": "stream",
     "text": [
      "138357/138357 [==============================] - 1550s 11ms/step - loss: -10974350278656.0000 - val_loss: -22637887619072.0000\n",
      "Epoch 2/10\n"
     ]
    },
    {
     "name": "stderr",
     "output_type": "stream",
     "text": [
      "2023-03-28 13:36:36.728566: I tensorflow/core/kernels/data/shuffle_dataset_op.cc:390] Filling up shuffle buffer (this may take a while): 822554 of 4427415\n",
      "2023-03-28 13:36:42.069554: I tensorflow/core/kernels/data/shuffle_dataset_op.cc:390] Filling up shuffle buffer (this may take a while): 1690153 of 4427415\n",
      "2023-03-28 13:36:52.082435: I tensorflow/core/kernels/data/shuffle_dataset_op.cc:390] Filling up shuffle buffer (this may take a while): 3019791 of 4427415\n"
     ]
    },
    {
     "name": "stdout",
     "output_type": "stream",
     "text": [
      "     6/138357 [..............................] - ETA: 53:13 - loss: -26727522762752.0000   "
     ]
    },
    {
     "name": "stderr",
     "output_type": "stream",
     "text": [
      "2023-03-28 13:37:01.365450: I tensorflow/core/kernels/data/shuffle_dataset_op.cc:415] Shuffle buffer filled.\n"
     ]
    },
    {
     "name": "stdout",
     "output_type": "stream",
     "text": [
      "138357/138357 [==============================] - 1960s 14ms/step - loss: -73543035387904.0000 - val_loss: -112791629332480.0000\n",
      "Epoch 3/10\n"
     ]
    },
    {
     "name": "stderr",
     "output_type": "stream",
     "text": [
      "2023-03-28 14:09:23.807403: I tensorflow/core/kernels/data/shuffle_dataset_op.cc:390] Filling up shuffle buffer (this may take a while): 756762 of 4427415\n",
      "2023-03-28 14:09:23.807710: I tensorflow/core/kernels/data/shuffle_dataset_op.cc:390] Filling up shuffle buffer (this may take a while): 756763 of 4427415\n",
      "2023-03-28 14:09:32.621996: I tensorflow/core/kernels/data/shuffle_dataset_op.cc:390] Filling up shuffle buffer (this may take a while): 2484589 of 4427415\n",
      "2023-03-28 14:09:42.632043: I tensorflow/core/kernels/data/shuffle_dataset_op.cc:390] Filling up shuffle buffer (this may take a while): 3604283 of 4427415\n"
     ]
    },
    {
     "name": "stdout",
     "output_type": "stream",
     "text": [
      "     5/138357 [..............................] - ETA: 1:14:21 - loss: -138763304960000.0000  "
     ]
    },
    {
     "name": "stderr",
     "output_type": "stream",
     "text": [
      "2023-03-28 14:09:52.621994: I tensorflow/core/kernels/data/shuffle_dataset_op.cc:390] Filling up shuffle buffer (this may take a while): 4420661 of 4427415\n",
      "2023-03-28 14:09:52.646900: I tensorflow/core/kernels/data/shuffle_dataset_op.cc:415] Shuffle buffer filled.\n"
     ]
    },
    {
     "name": "stdout",
     "output_type": "stream",
     "text": [
      "138357/138357 [==============================] - 2030s 14ms/step - loss: -269109077999616.0000 - val_loss: -352649295691776.0000\n",
      "Epoch 4/10\n"
     ]
    },
    {
     "name": "stderr",
     "output_type": "stream",
     "text": [
      "2023-03-28 14:43:04.167002: I tensorflow/core/kernels/data/shuffle_dataset_op.cc:390] Filling up shuffle buffer (this may take a while): 3456421 of 4427415\n",
      "2023-03-28 14:43:12.524435: I tensorflow/core/kernels/data/shuffle_dataset_op.cc:390] Filling up shuffle buffer (this may take a while): 4338025 of 4427415\n"
     ]
    },
    {
     "name": "stdout",
     "output_type": "stream",
     "text": [
      "     4/138357 [..............................] - ETA: 1:28:20 - loss: -430093092519936.0000 "
     ]
    },
    {
     "name": "stderr",
     "output_type": "stream",
     "text": [
      "2023-03-28 14:43:13.417547: I tensorflow/core/kernels/data/shuffle_dataset_op.cc:415] Shuffle buffer filled.\n"
     ]
    },
    {
     "name": "stdout",
     "output_type": "stream",
     "text": [
      "138357/138357 [==============================] - 1976s 14ms/step - loss: -717874926714880.0000 - val_loss: -854247386120192.0000\n",
      "Epoch 5/10\n"
     ]
    },
    {
     "name": "stderr",
     "output_type": "stream",
     "text": [
      "2023-03-28 15:15:59.676600: I tensorflow/core/kernels/data/shuffle_dataset_op.cc:390] Filling up shuffle buffer (this may take a while): 3467922 of 4427415\n",
      "2023-03-28 15:16:08.368764: I tensorflow/core/kernels/data/shuffle_dataset_op.cc:390] Filling up shuffle buffer (this may take a while): 4365943 of 4427415\n"
     ]
    },
    {
     "name": "stdout",
     "output_type": "stream",
     "text": [
      "     5/138357 [..............................] - ETA: 1:14:57 - loss: -990745137774592.0000 "
     ]
    },
    {
     "name": "stderr",
     "output_type": "stream",
     "text": [
      "2023-03-28 15:16:08.616690: I tensorflow/core/kernels/data/shuffle_dataset_op.cc:415] Shuffle buffer filled.\n"
     ]
    },
    {
     "name": "stdout",
     "output_type": "stream",
     "text": [
      "138357/138357 [==============================] - 1943s 14ms/step - loss: -1579031438819328.0000 - val_loss: -1761105168826368.0000\n",
      "Epoch 6/10\n"
     ]
    },
    {
     "name": "stderr",
     "output_type": "stream",
     "text": [
      "2023-03-28 15:48:26.525338: I tensorflow/core/kernels/data/shuffle_dataset_op.cc:390] Filling up shuffle buffer (this may take a while): 1040278 of 4427415\n",
      "2023-03-28 15:48:31.890976: I tensorflow/core/kernels/data/shuffle_dataset_op.cc:390] Filling up shuffle buffer (this may take a while): 1677227 of 4427415\n",
      "2023-03-28 15:48:45.007400: I tensorflow/core/kernels/data/shuffle_dataset_op.cc:390] Filling up shuffle buffer (this may take a while): 3897695 of 4427415\n",
      "2023-03-28 15:48:52.737938: I tensorflow/core/kernels/data/shuffle_dataset_op.cc:390] Filling up shuffle buffer (this may take a while): 4322109 of 4427415\n"
     ]
    },
    {
     "name": "stdout",
     "output_type": "stream",
     "text": [
      "     6/138357 [..............................] - ETA: 49:49 - loss: -2296417813004288.0000   "
     ]
    },
    {
     "name": "stderr",
     "output_type": "stream",
     "text": [
      "2023-03-28 15:48:54.181871: I tensorflow/core/kernels/data/shuffle_dataset_op.cc:415] Shuffle buffer filled.\n"
     ]
    },
    {
     "name": "stdout",
     "output_type": "stream",
     "text": [
      "138357/138357 [==============================] - 1998s 14ms/step - loss: -3051697744117760.0000 - val_loss: -3247861785427968.0000\n",
      "Epoch 7/10\n"
     ]
    },
    {
     "name": "stderr",
     "output_type": "stream",
     "text": [
      "2023-03-28 16:21:46.503657: I tensorflow/core/kernels/data/shuffle_dataset_op.cc:390] Filling up shuffle buffer (this may take a while): 870581 of 4427415\n",
      "2023-03-28 16:21:49.992433: I tensorflow/core/kernels/data/shuffle_dataset_op.cc:390] Filling up shuffle buffer (this may take a while): 1228691 of 4427415\n",
      "2023-03-28 16:22:04.787686: I tensorflow/core/kernels/data/shuffle_dataset_op.cc:390] Filling up shuffle buffer (this may take a while): 3790604 of 4427415\n",
      "2023-03-28 16:22:09.992356: I tensorflow/core/kernels/data/shuffle_dataset_op.cc:390] Filling up shuffle buffer (this may take a while): 3897685 of 4427415\n"
     ]
    },
    {
     "name": "stdout",
     "output_type": "stream",
     "text": [
      "     5/138357 [..............................] - ETA: 1:11:28 - loss: -3828621357613056.0000 "
     ]
    },
    {
     "name": "stderr",
     "output_type": "stream",
     "text": [
      "2023-03-28 16:22:15.987834: I tensorflow/core/kernels/data/shuffle_dataset_op.cc:415] Shuffle buffer filled.\n"
     ]
    },
    {
     "name": "stdout",
     "output_type": "stream",
     "text": [
      "138357/138357 [==============================] - 1989s 14ms/step - loss: -5365970541477888.0000 - val_loss: -5504015085338624.0000\n",
      "Epoch 8/10\n"
     ]
    },
    {
     "name": "stderr",
     "output_type": "stream",
     "text": [
      "2023-03-28 16:54:58.398626: I tensorflow/core/kernels/data/shuffle_dataset_op.cc:390] Filling up shuffle buffer (this may take a while): 1249280 of 4427415\n",
      "2023-03-28 16:54:59.425301: I tensorflow/core/kernels/data/shuffle_dataset_op.cc:390] Filling up shuffle buffer (this may take a while): 1280964 of 4427415\n",
      "2023-03-28 16:55:09.425290: I tensorflow/core/kernels/data/shuffle_dataset_op.cc:390] Filling up shuffle buffer (this may take a while): 3549892 of 4427415\n",
      "2023-03-28 16:55:19.425291: I tensorflow/core/kernels/data/shuffle_dataset_op.cc:390] Filling up shuffle buffer (this may take a while): 3949082 of 4427415\n",
      "2023-03-28 16:55:23.762376: I tensorflow/core/kernels/data/shuffle_dataset_op.cc:415] Shuffle buffer filled.\n"
     ]
    },
    {
     "name": "stdout",
     "output_type": "stream",
     "text": [
      "138357/138357 [==============================] - 1990s 14ms/step - loss: -8773863882096640.0000 - val_loss: -8757967671263232.0000\n",
      "Epoch 9/10\n"
     ]
    },
    {
     "name": "stderr",
     "output_type": "stream",
     "text": [
      "2023-03-28 17:28:14.751854: I tensorflow/core/kernels/data/shuffle_dataset_op.cc:390] Filling up shuffle buffer (this may take a while): 905137 of 4427415\n",
      "2023-03-28 17:28:14.773511: I tensorflow/core/kernels/data/shuffle_dataset_op.cc:390] Filling up shuffle buffer (this may take a while): 905138 of 4427415\n",
      "2023-03-28 17:28:19.772373: I tensorflow/core/kernels/data/shuffle_dataset_op.cc:390] Filling up shuffle buffer (this may take a while): 1283590 of 4427415\n",
      "2023-03-28 17:28:35.383355: I tensorflow/core/kernels/data/shuffle_dataset_op.cc:390] Filling up shuffle buffer (this may take a while): 3777877 of 4427415\n",
      "2023-03-28 17:28:39.775381: I tensorflow/core/kernels/data/shuffle_dataset_op.cc:390] Filling up shuffle buffer (this may take a while): 3778055 of 4427415\n"
     ]
    },
    {
     "name": "stdout",
     "output_type": "stream",
     "text": [
      "     6/138357 [..............................] - ETA: 1:15:38 - loss: -10035143842463744.0000"
     ]
    },
    {
     "name": "stderr",
     "output_type": "stream",
     "text": [
      "2023-03-28 17:28:49.291549: I tensorflow/core/kernels/data/shuffle_dataset_op.cc:415] Shuffle buffer filled.\n"
     ]
    },
    {
     "name": "stdout",
     "output_type": "stream",
     "text": [
      "138357/138357 [==============================] - 1989s 14ms/step - loss: -13592467685244928.0000 - val_loss: -13275815852638208.0000\n",
      "Epoch 10/10\n"
     ]
    },
    {
     "name": "stderr",
     "output_type": "stream",
     "text": [
      "2023-03-28 18:01:19.504582: I tensorflow/core/kernels/data/shuffle_dataset_op.cc:390] Filling up shuffle buffer (this may take a while): 810456 of 4427415\n",
      "2023-03-28 18:01:19.524035: I tensorflow/core/kernels/data/shuffle_dataset_op.cc:390] Filling up shuffle buffer (this may take a while): 810457 of 4427415\n",
      "2023-03-28 18:01:28.838882: I tensorflow/core/kernels/data/shuffle_dataset_op.cc:390] Filling up shuffle buffer (this may take a while): 2789101 of 4427415\n",
      "2023-03-28 18:01:38.852902: I tensorflow/core/kernels/data/shuffle_dataset_op.cc:390] Filling up shuffle buffer (this may take a while): 3760327 of 4427415\n"
     ]
    },
    {
     "name": "stdout",
     "output_type": "stream",
     "text": [
      "     6/138357 [..............................] - ETA: 55:16 - loss: -18006101706407936.0000    "
     ]
    },
    {
     "name": "stderr",
     "output_type": "stream",
     "text": [
      "2023-03-28 18:01:47.737776: I tensorflow/core/kernels/data/shuffle_dataset_op.cc:415] Shuffle buffer filled.\n"
     ]
    },
    {
     "name": "stdout",
     "output_type": "stream",
     "text": [
      "138357/138357 [==============================] - 2027s 14ms/step - loss: -20165839969845248.0000 - val_loss: -19349061744197632.0000\n"
     ]
    }
   ],
   "source": [
    "neuralCF_history = neuralCF_model.fit(train_ds,\n",
    "                validation_data = val_ds, \n",
    "                callbacks=[early_stopping],\n",
    "                epochs=10)"
   ]
  },
  {
   "cell_type": "code",
   "execution_count": 60,
   "id": "1eeff19b",
   "metadata": {
    "ExecuteTime": {
     "end_time": "2022-12-25T19:36:24.164815Z",
     "start_time": "2022-12-25T19:36:24.083091Z"
    },
    "hidden": true
   },
   "outputs": [
    {
     "data": {
      "image/png": "[encoded data removed]",
      "text/plain": [
       "<Figure size 432x288 with 1 Axes>"
      ]
     },
     "metadata": {
      "needs_background": "light"
     },
     "output_type": "display_data"
    }
   ],
   "source": [
    "plot(neuralCF_history)"
   ]
  },
  {
   "cell_type": "code",
   "execution_count": 64,
   "id": "9d5dd11c",
   "metadata": {
    "ExecuteTime": {
     "end_time": "2022-12-26T00:09:44.083375Z",
     "start_time": "2022-12-26T00:09:04.272412Z"
    },
    "hidden": true,
    "scrolled": true
   },
   "outputs": [
    {
     "name": "stdout",
     "output_type": "stream",
     "text": [
      "INFO:tensorflow:Assets written to: neuralCF_2_crossE/assets\n"
     ]
    }
   ],
   "source": [
    "# Save models to disk\n",
    "neuralCF_model.save('neuralCF_2_crossE', include_optimizer=False, )"
   ]
  }
 ],
 "metadata": {
  "kernelspec": {
   "display_name": "Python 3 (ipykernel)",
   "language": "python",
   "name": "python3"
  },
  "language_info": {
   "codemirror_mode": {
    "name": "ipython",
    "version": 3
   },
   "file_extension": ".py",
   "mimetype": "text/x-python",
   "name": "python",
   "nbconvert_exporter": "python",
   "pygments_lexer": "ipython3",
   "version": "3.8.10"
  },
  "toc": {
   "base_numbering": 1,
   "nav_menu": {},
   "number_sections": true,
   "sideBar": true,
   "skip_h1_title": false,
   "title_cell": "Table of Contents",
   "title_sidebar": "Contents",
   "toc_cell": false,
   "toc_position": {},
   "toc_section_display": true,
   "toc_window_display": false
  }
 },
 "nbformat": 4,
 "nbformat_minor": 5
}
