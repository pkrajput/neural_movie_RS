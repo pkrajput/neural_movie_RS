{
 "cells": [
  {
   "cell_type": "code",
   "execution_count": 1,
   "id": "12c9e9b2",
   "metadata": {
    "ExecuteTime": {
     "end_time": "2022-12-26T15:37:43.373475Z",
     "start_time": "2022-12-26T15:37:39.134513Z"
    }
   },
   "outputs": [
    {
     "name": "stderr",
     "output_type": "stream",
     "text": [
      "2023-03-24 00:08:29.960252: I tensorflow/core/platform/cpu_feature_guard.cc:193] This TensorFlow binary is optimized with oneAPI Deep Neural Network Library (oneDNN) to use the following CPU instructions in performance-critical operations:  AVX2 FMA\n",
      "To enable them in other operations, rebuild TensorFlow with the appropriate compiler flags.\n",
      "2023-03-24 00:08:30.149092: E tensorflow/stream_executor/cuda/cuda_blas.cc:2981] Unable to register cuBLAS factory: Attempting to register factory for plugin cuBLAS when one has already been registered\n",
      "2023-03-24 00:08:30.751773: W tensorflow/stream_executor/platform/default/dso_loader.cc:64] Could not load dynamic library 'libnvinfer.so.7'; dlerror: libnvinfer.so.7: cannot open shared object file: No such file or directory; LD_LIBRARY_PATH: /usr/local/nvidia/lib:/usr/local/nvidia/lib64\n",
      "2023-03-24 00:08:30.751858: W tensorflow/stream_executor/platform/default/dso_loader.cc:64] Could not load dynamic library 'libnvinfer_plugin.so.7'; dlerror: libnvinfer_plugin.so.7: cannot open shared object file: No such file or directory; LD_LIBRARY_PATH: /usr/local/nvidia/lib:/usr/local/nvidia/lib64\n",
      "2023-03-24 00:08:30.751869: W tensorflow/compiler/tf2tensorrt/utils/py_utils.cc:38] TF-TRT Warning: Cannot dlopen some TensorRT libraries. If you would like to use Nvidia GPU with TensorRT, please make sure the missing libraries mentioned above are installed properly.\n"
     ]
    }
   ],
   "source": [
    "import pickle\n",
    "import pandas as pd\n",
    "import numpy as np\n",
    "import tensorflow as tf\n",
    "from tensorflow.keras import backend as K\n",
    "import matplotlib.pyplot as plt"
   ]
  },
  {
   "attachments": {},
   "cell_type": "markdown",
   "id": "5111794a",
   "metadata": {},
   "source": [
    "# data preparation"
   ]
  },
  {
   "cell_type": "code",
   "execution_count": 2,
   "id": "67a66740",
   "metadata": {},
   "outputs": [],
   "source": [
    "def rmse(y_true, y_pred):\n",
    "    return K.sqrt(K.mean(K.square(y_pred - y_true)))"
   ]
  },
  {
   "cell_type": "code",
   "execution_count": 3,
   "id": "1848d330",
   "metadata": {},
   "outputs": [],
   "source": [
    "def load_pk_file(file_name):\n",
    "    with open(file_name, \"rb\") as f:\n",
    "        return pickle.load(f)\n",
    "\n",
    "data = load_pk_file('data_2.pickle')"
   ]
  },
  {
   "cell_type": "code",
   "execution_count": 4,
   "id": "1fb3f576",
   "metadata": {
    "ExecuteTime": {
     "end_time": "2022-12-26T15:38:35.610073Z",
     "start_time": "2022-12-26T15:38:35.560242Z"
    }
   },
   "outputs": [],
   "source": [
    "# ---------- fill missing values with unknown ----------\n",
    "data.fillna(\n",
    "    {\n",
    "    \"movie_genre_2\":\"unknown\", \n",
    "    'user_fav_genre': \"unknown\",\n",
    "    'release_year': data.release_year.mean()\n",
    "    }, \n",
    "    inplace=True\n",
    ")"
   ]
  },
  {
   "cell_type": "code",
   "execution_count": 5,
   "id": "6e75eac7",
   "metadata": {},
   "outputs": [
    {
     "data": {
      "text/plain": [
       "Index(['userId', 'age', 'gender', 'occupation', 'zipcode_bucket', 'movieId',\n",
       "       'imdb_id', 'title', 'movie_genre_1', 'movie_genre_2', 'IMDb_rating',\n",
       "       'plot embedding', 'release_year', 'rating', 'user_avg_rating',\n",
       "       'user_std_rating', 'user_rating_count', 'movie_avg_rating',\n",
       "       'movie_std_rating', 'movie_rating_count', 'user_fav_genre',\n",
       "       'user_fav_movieId', 'timestamp'],\n",
       "      dtype='object')"
      ]
     },
     "execution_count": 5,
     "metadata": {},
     "output_type": "execute_result"
    }
   ],
   "source": [
    "data.columns"
   ]
  },
  {
   "cell_type": "code",
   "execution_count": 10,
   "id": "7d21f3a0",
   "metadata": {
    "ExecuteTime": {
     "end_time": "2022-12-26T15:38:37.624966Z",
     "start_time": "2022-12-26T15:38:37.602047Z"
    }
   },
   "outputs": [],
   "source": [
    "# ---------- mormalized numerical columns ---------\n",
    "numerical_cols = ['age', 'IMDb_rating', 'release_year', 'user_avg_rating', 'user_std_rating',  \n",
    "                  'user_rating_count', 'movie_avg_rating', 'movie_std_rating', 'movie_rating_count',]\n",
    "\n",
    "for col in numerical_cols:\n",
    "    data[col] = (data[col] - data[col].min()) / (data[col].max() - data[col].min())   "
   ]
  },
  {
   "cell_type": "code",
   "execution_count": 11,
   "id": "4f3584cb",
   "metadata": {
    "ExecuteTime": {
     "end_time": "2022-12-26T15:38:39.571912Z",
     "start_time": "2022-12-26T15:38:39.564935Z"
    }
   },
   "outputs": [],
   "source": [
    "features = ['userId', 'age', 'gender', 'occupation', 'zipcode_bucket',                                     \n",
    "            'movieId', 'movie_genre_1', 'movie_genre_2', 'IMDb_rating', 'plot embedding', 'release_year',   \n",
    "            'rating', 'user_avg_rating', 'user_std_rating', 'user_rating_count', 'movie_avg_rating',        \n",
    "            'movie_std_rating', 'movie_rating_count', 'user_fav_genre', 'user_fav_movieId', 'timestamp']\n",
    "\n",
    "genre_cols = ['unknown', 'Action', 'Adventure', 'Animation', \"Children's\", 'Comedy', 'Crime', 'Documentary', \n",
    "              'Drama', 'Fantasy', 'Film-Noir', 'Horror', 'Musical', 'Mystery', 'Romance', 'Sci-Fi', 'Thriller', 'War', 'Western']"
   ]
  },
  {
   "cell_type": "code",
   "execution_count": 12,
   "id": "f97a831f",
   "metadata": {
    "ExecuteTime": {
     "end_time": "2022-12-26T15:38:44.769435Z",
     "start_time": "2022-12-26T15:38:44.743522Z"
    }
   },
   "outputs": [],
   "source": [
    "# ---------- features and target ----------\n",
    "X = data.drop([\"rating\", 'plot embedding', 'timestamp'] , axis = 1)\n",
    "y = data['rating'].astype('float32')"
   ]
  },
  {
   "cell_type": "code",
   "execution_count": 13,
   "id": "93ab8070",
   "metadata": {
    "ExecuteTime": {
     "end_time": "2022-12-26T16:11:01.822845Z",
     "start_time": "2022-12-26T16:11:01.814876Z"
    }
   },
   "outputs": [],
   "source": [
    "raw_train = X[0:0]\n",
    "raw_val = X[0:0]\n",
    "raw_test = X[0:0]"
   ]
  },
  {
   "cell_type": "code",
   "execution_count": 14,
   "id": "15a78850",
   "metadata": {
    "ExecuteTime": {
     "end_time": "2022-12-26T16:11:07.840325Z",
     "start_time": "2022-12-26T16:11:04.287312Z"
    }
   },
   "outputs": [],
   "source": [
    "# ---------- train/val/test split (80:10:10) by group of user and sort by timestamp ----------\n",
    "for id, user_group in X.groupby('userId'):\n",
    "    size = len(user_group)\n",
    "    train_size, val_size = int(size * 0.8), int(size * 0.1)\n",
    "    raw_train = pd.concat([raw_train, user_group[ : train_size]])\n",
    "    raw_val = pd.concat([raw_val, user_group[train_size : train_size+val_size]])       \n",
    "    raw_test = pd.concat([raw_test, user_group[train_size+val_size:]])"
   ]
  },
  {
   "cell_type": "code",
   "execution_count": 15,
   "id": "e250a1ed",
   "metadata": {
    "ExecuteTime": {
     "end_time": "2022-12-26T16:15:04.297003Z",
     "start_time": "2022-12-26T16:15:04.219134Z"
    }
   },
   "outputs": [
    {
     "name": "stderr",
     "output_type": "stream",
     "text": [
      "2023-03-24 00:23:56.238250: W tensorflow/stream_executor/platform/default/dso_loader.cc:64] Could not load dynamic library 'libcuda.so.1'; dlerror: libcuda.so.1: cannot open shared object file: No such file or directory; LD_LIBRARY_PATH: /usr/local/nvidia/lib:/usr/local/nvidia/lib64\n",
      "2023-03-24 00:23:56.238293: W tensorflow/stream_executor/cuda/cuda_driver.cc:263] failed call to cuInit: UNKNOWN ERROR (303)\n",
      "2023-03-24 00:23:56.238330: I tensorflow/stream_executor/cuda/cuda_diagnostics.cc:163] no NVIDIA GPU device is present: /dev/nvidia0 does not exist\n",
      "2023-03-24 00:23:56.238719: I tensorflow/core/platform/cpu_feature_guard.cc:193] This TensorFlow binary is optimized with oneAPI Deep Neural Network Library (oneDNN) to use the following CPU instructions in performance-critical operations:  AVX2 FMA\n",
      "To enable them in other operations, rebuild TensorFlow with the appropriate compiler flags.\n"
     ]
    }
   ],
   "source": [
    "# ---------- tf dataset + shuffle + batch ----------\n",
    "train_tfds = tf.data.Dataset.from_tensor_slices((dict(raw_train), y.iloc[raw_train.index])).shuffle(len(raw_train)).batch(32)\n",
    "val_tfds = tf.data.Dataset.from_tensor_slices((dict(raw_val), y.iloc[raw_val.index])).shuffle(len(raw_val)).batch(32)\n",
    "test_tfds = tf.data.Dataset.from_tensor_slices((dict(raw_test), y.iloc[raw_test.index])).shuffle(len(raw_test)).batch(32)"
   ]
  },
  {
   "cell_type": "code",
   "execution_count": 16,
   "id": "085ae960",
   "metadata": {
    "ExecuteTime": {
     "end_time": "2022-12-26T16:19:43.633070Z",
     "start_time": "2022-12-26T16:19:43.609091Z"
    },
    "hidden": true
   },
   "outputs": [],
   "source": [
    "inputs = {\n",
    "          # User \n",
    "          'age': tf.keras.layers.Input(name='age', shape=(), dtype='int32'),\n",
    "          'gender': tf.keras.layers.Input(name='gender', shape=(), dtype='int32'),\n",
    "          'occupation': tf.keras.layers.Input(name='occupation', shape=(), dtype='string'),\n",
    "          'zipcode_bucket': tf.keras.layers.Input(name='zipcode_bucket', shape=(), dtype='string'),\n",
    "    \n",
    "          # Movie\n",
    "          'movie_genre_1': tf.keras.layers.Input(name='movie_genre_1', shape=(), dtype='string'),\n",
    "          'movie_genre_2': tf.keras.layers.Input(name='movie_genre_2', shape=(), dtype='string'),\n",
    "          'IMDb_rating': tf.keras.layers.Input(name='IMDb_rating', shape=(), dtype='int32'),\n",
    "          'release_year': tf.keras.layers.Input(name='release_year', shape=(), dtype='float32'),\n",
    "    \n",
    "          # user-movie\n",
    "          'movieId': tf.keras.layers.Input(name='movieId', shape=(), dtype='int32'),\n",
    "          'userId': tf.keras.layers.Input(name='userId', shape=(), dtype='int32'),\n",
    "          'user_fav_genre': tf.keras.layers.Input(name='user_fav_genre', shape=(), dtype='string'),\n",
    "          'user_fav_movieId': tf.keras.layers.Input(name='user_fav_movieId', shape=(), dtype='int32'),\n",
    "    \n",
    "          'user_avg_rating': tf.keras.layers.Input(name='user_avg_rating', shape=(), dtype='float32'),\n",
    "          'user_std_rating': tf.keras.layers.Input(name='user_std_rating', shape=(), dtype='float32'),\n",
    "          'user_rating_count': tf.keras.layers.Input(name='user_rating_count', shape=(), dtype='int32'),\n",
    "    \n",
    "          'movie_avg_rating': tf.keras.layers.Input(name='movie_avg_rating', shape=(), dtype='float32'),\n",
    "          'movie_std_rating': tf.keras.layers.Input(name='movie_std_rating', shape=(), dtype='float32'),\n",
    "          'movie_rating_count': tf.keras.layers.Input(name='movie_rating_count', shape=(), dtype='int32'),\n",
    "}"
   ]
  },
  {
   "cell_type": "code",
   "execution_count": 17,
   "id": "cc2fec47",
   "metadata": {
    "ExecuteTime": {
     "end_time": "2022-12-26T16:19:45.761074Z",
     "start_time": "2022-12-26T16:19:45.728083Z"
    },
    "hidden": true
   },
   "outputs": [],
   "source": [
    "# categorize, embed and indicate\n",
    "\n",
    "# ---------- movieId ----------\n",
    "movie_col = tf.feature_column.categorical_column_with_identity(key='movieId', num_buckets=1683)         \n",
    "movie_emb_col = tf.feature_column.embedding_column(movie_col, 10)\n",
    "movie_ind_col = tf.feature_column.indicator_column(movie_col)\n",
    "\n",
    "# ---------- userId ----------\n",
    "user_col = tf.feature_column.categorical_column_with_identity(key='userId', num_buckets=944)\n",
    "user_emb_col = tf.feature_column.embedding_column(user_col, 10)\n",
    "user_ind_col = tf.feature_column.indicator_column(user_col)\n",
    "\n",
    "# ---------- occupation ----------\n",
    "occupation_col = tf.feature_column.categorical_column_with_vocabulary_list(key=\"occupation\", vocabulary_list=data['occupation'].unique())\n",
    "occupation_emb_col = tf.feature_column.embedding_column(occupation_col, 4)\n",
    "\n",
    "# ---------- gender ----------\n",
    "gender_col = tf.feature_column.categorical_column_with_identity(key = 'gender', num_buckets= 2)\n",
    "gender_ind_col = tf.feature_column.indicator_column(gender_col)\n",
    "\n",
    "# ---------- zipcode_bucket ---------- \n",
    "zipcode_bucket_col = tf.feature_column.categorical_column_with_vocabulary_list(key = 'zipcode_bucket', vocabulary_list=data['zipcode_bucket'].unique())\n",
    "zipcode_bucket_emb_col = tf.feature_column.embedding_column(zipcode_bucket_col, 10)\n",
    "\n",
    "# ---------- movie_genre ---------- \n",
    "movie_genre_1_col = tf.feature_column.categorical_column_with_vocabulary_list(key = 'movie_genre_1', vocabulary_list=genre_cols)\n",
    "movie_genre_2_col = tf.feature_column.categorical_column_with_vocabulary_list(key = 'movie_genre_2', vocabulary_list=genre_cols)\n",
    "movie_genre_1_emd_col = tf.feature_column.embedding_column(movie_genre_1_col, 10)\n",
    "movie_genre_2_emd_col = tf.feature_column.embedding_column(movie_genre_2_col, 10)\n",
    "movie_genre_1_ind_col = tf.feature_column.indicator_column(movie_genre_1_col)\n",
    "\n",
    "# ---------- user_fav_genre ---------- \n",
    "user_fav_genre_col = tf.feature_column.categorical_column_with_vocabulary_list(key = 'user_fav_genre', vocabulary_list=genre_cols)\n",
    "user_fav_genre_emb_col = tf.feature_column.embedding_column(user_fav_genre_col, 10)\n",
    "user_fav_genre_ind_col = tf.feature_column.indicator_column(user_fav_genre_col)\n",
    "\n",
    "# ---------- user_fav_movieId ---------- \n",
    "user_fav_movieId_col = tf.feature_column.categorical_column_with_identity(key='user_fav_movieId', num_buckets=1683)     \n",
    "user_fav_movieId_emb_col = tf.feature_column.embedding_column(user_fav_movieId_col, 10)\n",
    "\n",
    "\n",
    "\n",
    "categorical_columns = [movie_emb_col, user_emb_col, occupation_emb_col, gender_ind_col, zipcode_bucket_emb_col,  \n",
    "                       movie_genre_1_emd_col, movie_genre_2_emd_col, user_fav_genre_emb_col, user_fav_movieId_emb_col]"
   ]
  },
  {
   "cell_type": "code",
   "execution_count": 18,
   "id": "6ff978a6",
   "metadata": {
    "ExecuteTime": {
     "end_time": "2022-12-26T16:19:48.488037Z",
     "start_time": "2022-12-26T16:19:48.478069Z"
    },
    "hidden": true
   },
   "outputs": [],
   "source": [
    "age_col = tf.feature_column.numeric_column('age')\n",
    "\n",
    "IMDb_rating_col = tf.feature_column.numeric_column('IMDb_rating')\n",
    "release_year_col = tf.feature_column.numeric_column('release_year')\n",
    "\n",
    "user_avg_rating_col = tf.feature_column.numeric_column('user_avg_rating')\n",
    "user_std_rating_col = tf.feature_column.numeric_column('user_std_rating')\n",
    "user_rating_count_col = tf.feature_column.numeric_column('user_rating_count')\n",
    "\n",
    "movie_avg_rating_col = tf.feature_column.numeric_column('movie_avg_rating')\n",
    "movie_std_rating_col = tf.feature_column.numeric_column('movie_std_rating')\n",
    "movie_rating_count_col = tf.feature_column.numeric_column('movie_rating_count')\n",
    "\n",
    "\n",
    "\n",
    "numerical_columns = [age_col ,IMDb_rating_col , release_year_col, user_avg_rating_col , user_std_rating_col , user_rating_count_col ,\n",
    "                     movie_avg_rating_col , movie_std_rating_col , movie_rating_count_col]"
   ]
  },
  {
   "cell_type": "code",
   "execution_count": 19,
   "id": "b0127bec",
   "metadata": {
    "ExecuteTime": {
     "end_time": "2022-12-26T16:19:50.725124Z",
     "start_time": "2022-12-26T16:19:50.711174Z"
    },
    "hidden": true
   },
   "outputs": [],
   "source": [
    "# ---------- plot train and val loss (rmse) ----------\n",
    "def plot(history):\n",
    "    rmse = history.history['loss']\n",
    "    val_rmse = history.history['val_loss']\n",
    "    epochs = range(len(rmse))\n",
    "\n",
    "    plt.title('Training and validation rmse')\n",
    "    plt.plot(epochs, rmse, color='blue', label='Train')\n",
    "    plt.plot(epochs, val_rmse, color='orange', label='Val')\n",
    "    plt.xlabel('Epoch')\n",
    "    plt.ylabel('rmse')\n",
    "    plt.legend()"
   ]
  },
  {
   "cell_type": "code",
   "execution_count": 20,
   "id": "2bf9699b",
   "metadata": {
    "ExecuteTime": {
     "end_time": "2022-12-26T16:19:52.298933Z",
     "start_time": "2022-12-26T16:19:52.283909Z"
    },
    "hidden": true
   },
   "outputs": [],
   "source": [
    "early_stopping = tf.keras.callbacks.EarlyStopping(\n",
    "    monitor='val_loss', \n",
    "    verbose=1,\n",
    "    patience=8,\n",
    "    mode='auto',\n",
    "    restore_best_weights=True\n",
    ")"
   ]
  },
  {
   "attachments": {},
   "cell_type": "markdown",
   "id": "d3512eda",
   "metadata": {},
   "source": [
    "# models"
   ]
  },
  {
   "attachments": {},
   "cell_type": "markdown",
   "id": "a91a3342",
   "metadata": {
    "heading_collapsed": true,
    "hidden": true
   },
   "source": [
    "## NeuralCF"
   ]
  },
  {
   "cell_type": "code",
   "execution_count": 22,
   "id": "e1dcbbb0",
   "metadata": {
    "ExecuteTime": {
     "end_time": "2022-12-26T16:19:55.118704Z",
     "start_time": "2022-12-26T16:19:54.974189Z"
    },
    "hidden": true
   },
   "outputs": [],
   "source": [
    "# ---------- concatenate userId embedding and movieId embedding ----------\n",
    "mlp = tf.keras.layers.concatenate([tf.keras.layers.DenseFeatures([movie_emb_col])(inputs), tf.keras.layers.DenseFeatures([user_emb_col])(inputs)])\n",
    "mlp = tf.keras.layers.Dense(64, activation='relu')(mlp)\n",
    "mlp = tf.keras.layers.Dense(32, activation='relu')(mlp)\n",
    "neuralCF_output_layer = tf.keras.layers.Dense(1)(mlp)\n",
    "neuralCF_model = tf.keras.Model(inputs, neuralCF_output_layer)"
   ]
  },
  {
   "cell_type": "code",
   "execution_count": 23,
   "id": "62ef6c15",
   "metadata": {},
   "outputs": [
    {
     "name": "stdout",
     "output_type": "stream",
     "text": [
      "Epoch 1/50\n"
     ]
    },
    {
     "name": "stderr",
     "output_type": "stream",
     "text": [
      "/usr/local/lib/python3.8/dist-packages/keras/engine/functional.py:637: UserWarning: Input dict contained keys ['imdb_id', 'title'] which did not match any model input. They will be ignored by the model.\n",
      "  inputs = self._flatten_to_reference_inputs(inputs)\n"
     ]
    },
    {
     "name": "stdout",
     "output_type": "stream",
     "text": [
      "2487/2487 [==============================] - 12s 4ms/step - loss: 1.0638 - val_loss: 1.0236\n",
      "Epoch 2/50\n",
      "2487/2487 [==============================] - 12s 4ms/step - loss: 0.9388 - val_loss: 0.9807\n",
      "Epoch 3/50\n",
      "2487/2487 [==============================] - 11s 4ms/step - loss: 0.9199 - val_loss: 0.9777\n",
      "Epoch 4/50\n",
      "2487/2487 [==============================] - 11s 4ms/step - loss: 0.9106 - val_loss: 0.9816\n",
      "Epoch 5/50\n",
      "2487/2487 [==============================] - 12s 4ms/step - loss: 0.9039 - val_loss: 0.9705\n",
      "Epoch 6/50\n",
      "2487/2487 [==============================] - 13s 4ms/step - loss: 0.8965 - val_loss: 0.9761\n",
      "Epoch 7/50\n",
      "2487/2487 [==============================] - 11s 4ms/step - loss: 0.8898 - val_loss: 0.9713\n",
      "Epoch 8/50\n",
      "2487/2487 [==============================] - 12s 4ms/step - loss: 0.8841 - val_loss: 0.9689\n",
      "Epoch 9/50\n",
      "2487/2487 [==============================] - 12s 5ms/step - loss: 0.8775 - val_loss: 0.9694\n",
      "Epoch 10/50\n",
      "2487/2487 [==============================] - 12s 4ms/step - loss: 0.8698 - val_loss: 0.9766\n",
      "Epoch 11/50\n",
      "2487/2487 [==============================] - 12s 4ms/step - loss: 0.8620 - val_loss: 0.9774\n",
      "Epoch 12/50\n",
      "2487/2487 [==============================] - 12s 4ms/step - loss: 0.8557 - val_loss: 0.9819\n",
      "Epoch 13/50\n",
      "2487/2487 [==============================] - 12s 4ms/step - loss: 0.8478 - val_loss: 0.9887\n",
      "Epoch 14/50\n",
      "2487/2487 [==============================] - 11s 4ms/step - loss: 0.8404 - val_loss: 0.9833\n",
      "Epoch 15/50\n",
      "2487/2487 [==============================] - 12s 4ms/step - loss: 0.8343 - val_loss: 0.9916\n",
      "Epoch 16/50\n",
      "2485/2487 [============================>.] - ETA: 0s - loss: 0.8277Restoring model weights from the end of the best epoch: 8.\n",
      "2487/2487 [==============================] - 12s 4ms/step - loss: 0.8277 - val_loss: 0.9983\n",
      "Epoch 16: early stopping\n"
     ]
    }
   ],
   "source": [
    "neuralCF_model.compile(\n",
    "    loss=rmse,\n",
    "    optimizer='adam'\n",
    ")\n",
    "\n",
    "neuralCF_history = neuralCF_model.fit(\n",
    "    train_tfds,\n",
    "    validation_data = val_tfds, \n",
    "    callbacks=[early_stopping],\n",
    "    epochs=50\n",
    ")"
   ]
  },
  {
   "cell_type": "code",
   "execution_count": 24,
   "id": "11d78fc5",
   "metadata": {},
   "outputs": [
    {
     "data": {
      "image/png": "[encoded data removed]",
      "text/plain": [
       "<Figure size 432x288 with 1 Axes>"
      ]
     },
     "metadata": {
      "needs_background": "light"
     },
     "output_type": "display_data"
    }
   ],
   "source": [
    "plot(neuralCF_history)"
   ]
  },
  {
   "attachments": {},
   "cell_type": "markdown",
   "id": "0b8f6b3e",
   "metadata": {
    "heading_collapsed": true,
    "hidden": true
   },
   "source": [
    "## DeepFM"
   ]
  },
  {
   "cell_type": "code",
   "execution_count": 25,
   "id": "ea377c51",
   "metadata": {
    "ExecuteTime": {
     "end_time": "2022-12-25T22:08:57.289214Z",
     "start_time": "2022-12-25T22:08:56.648351Z"
    },
    "hidden": true
   },
   "outputs": [],
   "source": [
    "\n",
    "# factorized machine order 1 interection / linear regression \n",
    "fm_first_order_cols = [movie_ind_col, user_ind_col, movie_genre_1_ind_col,user_fav_genre_ind_col]\n",
    "fm_first_order_layer = tf.keras.layers.DenseFeatures(fm_first_order_cols)(inputs)\n",
    "\n",
    "# factorized machine order 2 interection, embedding dot product between features\n",
    "movie_emb_layer = tf.keras.layers.DenseFeatures([movie_emb_col])(inputs)\n",
    "user_emb_layer = tf.keras.layers.DenseFeatures([user_emb_col])(inputs)\n",
    "movie_genre_emb_layer = tf.keras.layers.DenseFeatures([movie_genre_1_emd_col])(inputs)\n",
    "user_genre_emb_layer = tf.keras.layers.DenseFeatures([user_fav_genre_emb_col])(inputs)\n",
    "\n",
    "# embedding dot product between features\n",
    "product_layer_movie_user = tf.keras.layers.Dot(axes=1)([movie_emb_layer, user_emb_layer])\n",
    "product_layer_movie_genre_user_genre = tf.keras.layers.Dot(axes=1)([movie_genre_emb_layer, user_genre_emb_layer])\n",
    "product_layer_movie_genre_user = tf.keras.layers.Dot(axes=1)([movie_genre_emb_layer, user_emb_layer])\n",
    "product_layer_user_genre_movie = tf.keras.layers.Dot(axes=1)([user_genre_emb_layer, movie_emb_layer])\n",
    "\n",
    "# deep part of this model is exactly the same as that in wide and deep model\n",
    "deepfm_deep = tf.keras.layers.DenseFeatures(numerical_columns + categorical_columns)(inputs)\n",
    "deepfm_deep = tf.keras.layers.Dense(256, activation='relu')(deepfm_deep)\n",
    "deepfm_deep = tf.keras.layers.Dense(128, activation='relu')(deepfm_deep)\n",
    "\n",
    "\n",
    "deepfm_concat_layer = tf.keras.layers.concatenate(\n",
    "    [\n",
    "    fm_first_order_layer, \n",
    "    product_layer_movie_user, \n",
    "    product_layer_movie_genre_user_genre,\n",
    "    product_layer_movie_genre_user,\n",
    "    product_layer_user_genre_movie,\n",
    "    deepfm_deep\n",
    "    ],\n",
    "    axis=1\n",
    ")\n",
    "deepfm_output_layer = tf.keras.layers.Dense(1)(deepfm_concat_layer)\n",
    "deepfm_model = tf.keras.Model(inputs, deepfm_output_layer)"
   ]
  },
  {
   "cell_type": "code",
   "execution_count": 26,
   "id": "24777513",
   "metadata": {},
   "outputs": [
    {
     "name": "stdout",
     "output_type": "stream",
     "text": [
      "Epoch 1/50\n",
      "2487/2487 [==============================] - 21s 7ms/step - loss: 0.9292 - val_loss: 0.9213\n",
      "Epoch 2/50\n",
      "2487/2487 [==============================] - 18s 7ms/step - loss: 0.8665 - val_loss: 0.9266\n",
      "Epoch 3/50\n",
      "2487/2487 [==============================] - 19s 7ms/step - loss: 0.8401 - val_loss: 0.9142\n",
      "Epoch 4/50\n",
      "2487/2487 [==============================] - 17s 7ms/step - loss: 0.8093 - val_loss: 0.9162\n",
      "Epoch 5/50\n",
      "2487/2487 [==============================] - 18s 7ms/step - loss: 0.7782 - val_loss: 0.9225\n",
      "Epoch 6/50\n",
      "2487/2487 [==============================] - 18s 7ms/step - loss: 0.7480 - val_loss: 0.9309\n",
      "Epoch 7/50\n",
      "2487/2487 [==============================] - 19s 7ms/step - loss: 0.7196 - val_loss: 0.9405\n",
      "Epoch 8/50\n",
      "2487/2487 [==============================] - 18s 7ms/step - loss: 0.6941 - val_loss: 0.9597\n",
      "Epoch 9/50\n",
      "2487/2487 [==============================] - 18s 7ms/step - loss: 0.6703 - val_loss: 0.9744\n",
      "Epoch 10/50\n",
      "2487/2487 [==============================] - 19s 7ms/step - loss: 0.6506 - val_loss: 0.9757\n",
      "Epoch 11/50\n",
      "2487/2487 [==============================] - ETA: 0s - loss: 0.6312Restoring model weights from the end of the best epoch: 3.\n",
      "2487/2487 [==============================] - 17s 7ms/step - loss: 0.6312 - val_loss: 0.9909\n",
      "Epoch 11: early stopping\n"
     ]
    }
   ],
   "source": [
    "deepfm_model.compile(\n",
    "    loss=rmse,\n",
    "    optimizer='adam'\n",
    ")\n",
    "\n",
    "deepfm_history = deepfm_model.fit(\n",
    "    train_tfds,\n",
    "    validation_data = val_tfds, \n",
    "    callbacks = [early_stopping],\n",
    "    epochs = 50\n",
    ")"
   ]
  },
  {
   "cell_type": "code",
   "execution_count": 27,
   "id": "a9345115",
   "metadata": {},
   "outputs": [
    {
     "data": {
      "image/png": "[encoded data removed]",
      "text/plain": [
       "<Figure size 432x288 with 1 Axes>"
      ]
     },
     "metadata": {
      "needs_background": "light"
     },
     "output_type": "display_data"
    }
   ],
   "source": [
    "plot(deepfm_history)"
   ]
  },
  {
   "attachments": {},
   "cell_type": "markdown",
   "id": "475953a1",
   "metadata": {
    "heading_collapsed": true
   },
   "source": [
    "## result"
   ]
  },
  {
   "cell_type": "code",
   "execution_count": 28,
   "id": "43ffb981",
   "metadata": {
    "ExecuteTime": {
     "end_time": "2022-12-25T23:39:50.150022Z",
     "start_time": "2022-12-25T23:39:40.849213Z"
    },
    "hidden": true
   },
   "outputs": [
    {
     "name": "stdout",
     "output_type": "stream",
     "text": [
      "337/337 [==============================] - 1s 3ms/step - loss: 1.0098\n",
      "337/337 [==============================] - 2s 4ms/step - loss: 0.9589\n"
     ]
    },
    {
     "data": {
      "text/html": [
       "<div>\n",
       "<style scoped>\n",
       "    .dataframe tbody tr th:only-of-type {\n",
       "        vertical-align: middle;\n",
       "    }\n",
       "\n",
       "    .dataframe tbody tr th {\n",
       "        vertical-align: top;\n",
       "    }\n",
       "\n",
       "    .dataframe thead th {\n",
       "        text-align: right;\n",
       "    }\n",
       "</style>\n",
       "<table border=\"1\" class=\"dataframe\">\n",
       "  <thead>\n",
       "    <tr style=\"text-align: right;\">\n",
       "      <th></th>\n",
       "      <th>test loss (rmse)</th>\n",
       "    </tr>\n",
       "  </thead>\n",
       "  <tbody>\n",
       "    <tr>\n",
       "      <th>neuralCF</th>\n",
       "      <td>1.009781</td>\n",
       "    </tr>\n",
       "    <tr>\n",
       "      <th>deepfm</th>\n",
       "      <td>0.958909</td>\n",
       "    </tr>\n",
       "  </tbody>\n",
       "</table>\n",
       "</div>"
      ],
      "text/plain": [
       "          test loss (rmse)\n",
       "neuralCF          1.009781\n",
       "deepfm            0.958909"
      ]
     },
     "execution_count": 28,
     "metadata": {},
     "output_type": "execute_result"
    }
   ],
   "source": [
    "result_df_neuralCF = pd.DataFrame.from_dict(neuralCF_model.evaluate(test_tfds, return_dict = True), orient='index',columns = [\"neuralCF\"]).transpose()\n",
    "result_df_deepfm = pd.DataFrame.from_dict(deepfm_model.evaluate(test_tfds, return_dict = True), orient='index',columns = [\"deepfm\"]).transpose()\n",
    "\n",
    "result_df = pd.concat([result_df_neuralCF, result_df_deepfm])\n",
    "result_df.columns = ['test loss (rmse)']\n",
    "result_df"
   ]
  },
  {
   "cell_type": "code",
   "execution_count": 29,
   "id": "9d5dd11c",
   "metadata": {
    "ExecuteTime": {
     "end_time": "2022-12-26T00:09:44.083375Z",
     "start_time": "2022-12-26T00:09:04.272412Z"
    },
    "hidden": true,
    "scrolled": true
   },
   "outputs": [
    {
     "name": "stderr",
     "output_type": "stream",
     "text": [
      "WARNING:absl:Function `_wrapped_model` contains input name(s) IMDb_rating, movieId, userId, user_fav_movieId with unsupported characters which will be renamed to imdb_rating, movieid, userid, user_fav_movieid in the SavedModel.\n"
     ]
    },
    {
     "name": "stdout",
     "output_type": "stream",
     "text": [
      "INFO:tensorflow:Assets written to: neuralCF/assets\n"
     ]
    },
    {
     "name": "stderr",
     "output_type": "stream",
     "text": [
      "INFO:tensorflow:Assets written to: neuralCF/assets\n",
      "WARNING:absl:Function `_wrapped_model` contains input name(s) IMDb_rating, movieId, userId, user_fav_movieId with unsupported characters which will be renamed to imdb_rating, movieid, userid, user_fav_movieid in the SavedModel.\n"
     ]
    },
    {
     "name": "stdout",
     "output_type": "stream",
     "text": [
      "INFO:tensorflow:Assets written to: deepfm/assets\n"
     ]
    },
    {
     "name": "stderr",
     "output_type": "stream",
     "text": [
      "INFO:tensorflow:Assets written to: deepfm/assets\n"
     ]
    }
   ],
   "source": [
    "neuralCF_model.save('neuralCF', include_optimizer=False)\n",
    "deepfm_model.save('deepfm',include_optimizer=False)"
   ]
  },
  {
   "cell_type": "code",
   "execution_count": null,
   "id": "ba3edae7",
   "metadata": {},
   "outputs": [],
   "source": []
  }
 ],
 "metadata": {
  "kernelspec": {
   "display_name": "Python 3 (ipykernel)",
   "language": "python",
   "name": "python3"
  },
  "language_info": {
   "codemirror_mode": {
    "name": "ipython",
    "version": 3
   },
   "file_extension": ".py",
   "mimetype": "text/x-python",
   "name": "python",
   "nbconvert_exporter": "python",
   "pygments_lexer": "ipython3",
   "version": "3.8.10"
  },
  "toc": {
   "base_numbering": 1,
   "nav_menu": {},
   "number_sections": true,
   "sideBar": true,
   "skip_h1_title": false,
   "title_cell": "Table of Contents",
   "title_sidebar": "Contents",
   "toc_cell": false,
   "toc_position": {},
   "toc_section_display": true,
   "toc_window_display": false
  }
 },
 "nbformat": 4,
 "nbformat_minor": 5
}
